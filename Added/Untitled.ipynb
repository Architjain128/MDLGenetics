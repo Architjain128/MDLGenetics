{
 "cells": [
  {
   "cell_type": "code",
   "execution_count": 20,
   "metadata": {},
   "outputs": [],
   "source": [
    "import json\n",
    "import os\n",
    "import copy\n",
    "import random \n",
    "import numpy as np\n",
    "from client import *\n",
    "import matplotlib.pyplot as plt\n",
    "import datetime"
   ]
  },
  {
   "cell_type": "code",
   "execution_count": 21,
   "metadata": {},
   "outputs": [],
   "source": [
    "Team_Key = \"VPN75t7UGO44XsrQlo9KuKkg8yRrqgSfyh13GITsQnyvLLyvV5\" \n",
    "Team_Name = \"Platypus_Perry\"\n",
    "max_limit = 10 \n",
    "min_limit = -10\n",
    "generations = 10\n",
    "array_len = 11\n",
    "population_size = 8\n",
    "chromosome_size = 11\n",
    "Mutation_Probability = 0.2         # probabilty that it will mutate\n",
    "Mutation_Difference_Scale = 1000   # adding noice on mutation to actual value ratio\n",
    "initial_array = [0.0, -1.45799022e-12, -2.28980078e-13,  4.62010753e-11, -1.75214813e-10, -1.83669770e-15,  8.52944060e-16,  2.29423303e-05, -2.04721003e-06, -1.59792834e-08,  9.98214034e-10]\n",
    "valid_err_best_weights = 0\n",
    "train_err_best_weights = 0\n",
    "best_weights_set = []\n",
    "fitness_best_weights = 0\n",
    "population = []\n",
    "best_valid_err_gen = []\n",
    "best_train_err_gen = []\n",
    "best_fit_gen = []\n",
    "# parent[10 = []"
   ]
  },
  {
   "cell_type": "code",
   "execution_count": 22,
   "metadata": {},
   "outputs": [],
   "source": [
    "def add_noise(arr):\n",
    "    for id, val in np.ndenumerate(arr):\n",
    "        Mutation_Probability = 1    \n",
    "#         Mutation_Probability = np.random.random()\n",
    "        Mutation_Difference_Scale = np.random.randint(80, 100)\n",
    "        chance = np.random.random()\n",
    "        if chance < Mutation_Probability:\n",
    "            range_var = val/Mutation_Difference_Scale\n",
    "            if val == 0:\n",
    "                range_var = np.mean(arr)/(Mutation_Difference_Scale*100)\n",
    "            arr[id] = arr[id] + np.random.uniform(-range_var,0)\n",
    "    return np.clip(arr, min_limit, max_limit)\n",
    "def add_noise_populate(arr):\n",
    "    for id, val in np.ndenumerate(arr):\n",
    "        Mutation_Probability = 1      \n",
    "#         Mutation_Probability = np.random.random()\n",
    "        Mutation_Difference_Scale = np.random.randint(10, 15)\n",
    "        chance = np.random.random()\n",
    "        if chance < Mutation_Probability:\n",
    "            range_var = val/Mutation_Difference_Scale\n",
    "            if val == 0:\n",
    "                range_var = np.mean(arr)/(Mutation_Difference_Scale*10)\n",
    "            arr[id] = arr[id] + np.random.uniform(-range_var,0)\n",
    "    return np.clip(arr, min_limit, max_limit)\n",
    "def populate(arr):\n",
    "    arra = []\n",
    "    for i in range(0,population_size):\n",
    "        arra.append(arr)\n",
    "    arra = np.array(arra, dtype=np.double)\n",
    "    arra = add_noise_populate(arra)\n",
    "    arra =  [[3.8018336381127355e-11, -1.5528734829856733e-12, -2.591522956304375e-13, 5.3294778938474025e-11, -1.6419602618568388e-10, -9.81623087048927e-16, 5.626677102217705e-16, 1.6459849128606014e-05, -1.415552855986214e-06, -1.0046678719719254e-08, 6.329171037222736e-10], [9.34079436112194e-11, -1.5675107224619307e-12, -2.608049641268132e-13, 5.399919317004255e-11, -1.6523783887169133e-10, -7.568434018329049e-16, 5.312503692619588e-16, 1.6559256722156905e-05, -1.4245484178243986e-06, -1.0150809638920009e-08, 6.371654965924299e-10], [-3.202214551969232e-09, -8.630973147674398e-13, -1.3064644915726234e-13, 2.8331026522040255e-11, -1.19218000099614e-10, -9.526166636851597e-16, 5.779046874017653e-16, 1.6268119140521224e-05, -1.5016826831845123e-06, -1.094471637514604e-08, 6.855816693042416e-10], [-3.2068727087408714e-09, -8.650437791072675e-13, -1.315580797892194e-13, 2.8136885972110424e-11, -1.189882572730185e-10, -9.438964807951663e-16, 5.771792128194925e-16, 1.6241246584469253e-05, -1.502073920424739e-06, -1.0871530202321797e-08, 6.879935735452338e-10], [-1.067651727963883e-10, -1.5180691662003708e-12, -2.5072017976715594e-13, 5.2161564531194324e-11, -1.2133095941775532e-10, -9.5215293676954e-16, 5.798223628865233e-16, 1.627640267887981e-05, -1.490598960798251e-06, -1.0796299169367084e-08, 6.860444853796938e-10], [-3.071289548160132e-09, -8.947961377878716e-13, -1.3717224820458403e-13, 2.927226353117579e-11, -1.6174028725405128e-10, -9.693833748304288e-16, 5.622467186716391e-16, 1.641748828685285e-05, -1.4304894559398297e-06, -1.0225805555950982e-08, 6.368026518878031e-10], [5.4522097003287815e-11, -1.5639397253468673e-12, -2.57888211512377e-13, 5.347332623299892e-11, -1.6368042687813158e-10, -9.188524134071972e-16, 5.374915945413052e-16, 1.6630748107967303e-05, -1.4164601533914403e-06, -1.0047452238073422e-08, 6.330869798073732e-10], [7.652528989951029e-11, -1.5649477505167017e-12, -2.5921413775963205e-13, 5.372241377398525e-11, -1.6452928564826048e-10, -8.230654402308087e-16, 5.543074575524961e-16, 1.6517797426281997e-05, -1.4206925630730403e-06, -1.0097284452084498e-08, 6.332467882009071e-10]]\n",
    "    # arra[1] =   [-4.055602815799549e-10, -1.4128371947304094e-12, -2.2176453661837746e-13, 4.272808295025534e-11, -1.5093181158763617e-10, -3.6674484141504946e-16, 5.435020211172908e-16, 1.550882276478362e-05, -1.3285480590260884e-06, -9.28563588135342e-09, 5.774766039414713e-10]\n",
    "    # arra[2] =  [-3.548330684715398e-10, -1.3864142816932345e-12, -2.2080734329857315e-13, 4.195989695157215e-11, -1.5415565681148144e-10, -4.873442356206607e-16, 5.575771086185493e-16, 1.5807498674479656e-05, -1.3678338314604715e-06, -9.533950786224575e-09, 6.00148832658105e-10]\n",
    "    return arra\n",
    "def Roulette_Wheel_Selection(arr ,fitness_sum):\n",
    "    random_nu = random.uniform(0,fitness_sum)\n",
    "    for id, val in np.ndenumerate(arr):\n",
    "        if (val > random_nu):\n",
    "            return id\n",
    "    return len(arr) - 1"
   ]
  },
  {
   "cell_type": "code",
   "execution_count": 23,
   "metadata": {},
   "outputs": [],
   "source": [
    "def get_gen(name_file, i , population):\n",
    "    j = i\n",
    "    selected_population = []\n",
    "    crossovered_population = []\n",
    "    mutated_population = []\n",
    "    # global population\n",
    "    global fitness_best_weights\n",
    "    global valid_err_best_weights\n",
    "    global train_err_best_weights\n",
    "\n",
    "    global best_fit_gen\n",
    "    global best_train_err_gen\n",
    "    global best_valid_err_gen\n",
    "    #finding errors\n",
    "    fitness = []\n",
    "    train_error = []\n",
    "    valid_error = []\n",
    "    for chromosomes in population:\n",
    "        train_err, valid_err = get_errors(Team_Key, list(chromosomes))\n",
    "        # train_err = 1*j + np.random.randint(1, 100)\n",
    "        # valid_err = 1*j + np.random.randint(1, 100)\n",
    "        train_error.append(train_err)\n",
    "        valid_error.append(valid_err)\n",
    "        fitness.append(-(train_err + valid_err))\n",
    "\n",
    "    #updating err values\n",
    "    best_fit_id = np.argmax(fitness)\n",
    "    if ( (fitness_best_weights == 0) or (fitness[best_fit_id] > fitness_best_weights)):\n",
    "        fitness_best_weights = fitness[best_fit_id]\n",
    "        valid_err_best_weights = valid_error[best_fit_id]\n",
    "        train_err_best_weights = train_error[best_fit_id]\n",
    "        best_weights_set[:] = population[best_fit_id]\n",
    "    \n",
    "    best_fit_gen.append((-1)*fitness[best_fit_id])\n",
    "    best_valid_err_gen.append(valid_error[best_fit_id])\n",
    "    best_train_err_gen.append(train_error[best_fit_id])\n",
    "\n",
    "    scaled_fitness = (fitness - np.min(fitness)) / np.ptp(fitness) #fitness is scaled from 0 to 1\n",
    "    # print (scaled_fitness)\n",
    "    n = int(population_size - (population_size*2)/3)\n",
    "    # n=1\n",
    "    indic =  scaled_fitness.argsort()[:n]\n",
    "    boolarray = np.zeros((population_size,),dtype=int)\n",
    "    for value in indic:\n",
    "        boolarray[value] = 1\n",
    "    partial_sum = []\n",
    "    sum_fitness = np.sum(scaled_fitness)\n",
    "    part = 0.0\n",
    "    z =0\n",
    "    for val in scaled_fitness:\n",
    "        if boolarray[z]==1:\n",
    "            val = 0.0\n",
    "        part = part + val\n",
    "        z = z+1\n",
    "        partial_sum.append(part)\n",
    "    print(\"gen\",j+1,\"\\n\",file=open(\"parent.txt\" , \"a\"))\n",
    "    print(indic,\"\\n\",file=open(\"indic.txt\" , \"a\"))\n",
    "    crossover =[]\n",
    "    print(\"gen\",j+1,\"\\n\",file=open(\"indic.txt\" , \"a\"))\n",
    "    for i in range(0, population_size//2):\n",
    "        # selection\n",
    "        index1 = Roulette_Wheel_Selection(partial_sum ,part)\n",
    "        index2 = Roulette_Wheel_Selection(partial_sum ,part)\n",
    "        print(index1,index2,\"\\n\",file=open(\"parent.txt\" , \"a\"))\n",
    "        selected_f = population[index1]\n",
    "        selected_s = population[index2]\n",
    "        selected_population.append(selected_f)\n",
    "        selected_population.append(selected_s)\n",
    "\n",
    "        # crossover \n",
    "        crossovered_f = np.empty(11)        \n",
    "        crossovered_s = np.empty(11)\n",
    "        u = random.random()\n",
    "        nc = 3\n",
    "        if (u < 0.5):\n",
    "            beta = (2 * u)**((nc + 1)**-1)\n",
    "        else:\n",
    "            beta = ((2*(1-u))**-1)**((nc + 1)**-1)\n",
    "            \n",
    "        parent1 = np.array(selected_f)\n",
    "        parent2 = np.array(selected_s)\n",
    "        crossovered_f = 0.5*((1 + beta) * parent1 + (1 - beta) * parent2)\n",
    "        crossovered_s = 0.5*((1 - beta) * parent1 + (1 + beta) * parent2)\n",
    "        crossovere_f = np.copy(crossovered_f)\n",
    "        crossovere_s = np.copy(crossovered_s)\n",
    "        crossover_point = np.random.randint(4,9)\n",
    "        crossovered_f[0:crossover_point] = crossovere_s[0:crossover_point]\n",
    "        crossovered_s[0:crossover_point] = crossovere_f[0:crossover_point]\n",
    "        crossovered_population.append(crossovered_f)\n",
    "        crossovered_population.append(crossovered_s)\n",
    "        crossover.append(crossovered_f)\n",
    "        crossover.append(crossovered_s)\n",
    "    \n",
    "    #mutation\n",
    "    crossover = np.array(crossover, dtype=np.double)\n",
    "    population = add_noise(crossover)\n",
    "    mutated_population = population\n",
    "\n",
    "    #creating generation files\n",
    "    file_name = str(name_file) + \"/\" + \"generations_\" + str(j+1) + \".txt\"\n",
    "    \n",
    "    selected_population = np.array(selected_population)\n",
    "    crossovered_population = np.array(crossovered_population)\n",
    "    mutated_population = np.array(mutated_population)\n",
    "    with open(file_name, 'w') as write_file:\n",
    "        json.dump(selected_population.tolist(), write_file)\n",
    "        write_file.write('\\n' + '\\n')\n",
    "        json.dump(crossovered_population.tolist(), write_file)\n",
    "        write_file.write('\\n' + '\\n')\n",
    "        json.dump(mutated_population.tolist(), write_file)\n",
    "    return population\n"
   ]
  },
  {
   "cell_type": "code",
   "execution_count": 24,
   "metadata": {},
   "outputs": [],
   "source": [
    "name_file = \"generations1306_7th\"\n",
    "print(name_file,\"\\n\",file=open(\"parent.txt\" , \"a\"))\n",
    "print(name_file,\"\\n\",file=open(\"indic.txt\" , \"a\"))\n",
    "if (os.path.isdir(name_file) != 1):\n",
    "    os.mkdir(name_file)\n",
    "population = populate(initial_array)\n",
    "population = np.array(population , dtype=np.double)\n",
    "\n",
    "for i in range(0,generations):\n",
    "    population = get_gen(name_file, i , population)\n",
    "    \n",
    "print(\"best values >>>>>>>>\",name_file,datetime.datetime.now(),file=open(\"tt1.txt\" , \"a\"))\n",
    "print(fitness_best_weights,\"\\n\", valid_err_best_weights,\"\\n\", train_err_best_weights,\"\\n\", best_weights_set,file=open(\"tt1.txt\" , \"a\"))\n",
    "print(\"=================================================================================\\n\\n\\n\\n\",file=open(\"tt1.txt\" , \"a\"))\n"
   ]
  },
  {
   "cell_type": "code",
   "execution_count": 104,
   "metadata": {},
   "outputs": [
    {
     "output_type": "execute_result",
     "data": {
      "text/plain": [
       "'successfully submitted'"
      ]
     },
     "metadata": {},
     "execution_count": 104
    }
   ],
   "source": [
    "# vvtt = [-7.796984517402969e-10, -1.2759114692062566e-12, -2.0269879488472377e-13, 4.2736379058925144e-11, -1.593031118007237e-10, -1.619038840306331e-15, 7.968442767123957e-16, 2.10026184658057e-05, -1.8134724859015964e-06, -1.4393999162387242e-08, 8.689798005351976e-10]\n",
    "# vvtt = [-6.434083109283897e-11, -1.3669359761012536e-12, -2.1590401643672617e-13, 4.427649708786989e-11, -1.6420867741237895e-10, -1.5725852375203345e-15, 7.76863379904347e-16, 2.107079773999939e-05, -1.8064822105179495e-06, -1.3776359286132386e-08, 8.502468033116452e-10]\n",
    "# vvtt =  [-2.28793270878918e-09, -9.428658620391893e-13, -1.6230484813376313e-13, 3.28134425497517e-11, -1.1118075060796935e-10, -1.1034363144539963e-15, 5.102812819238911e-16, 1.5334886611292646e-05, -1.4514748935177765e-06, -8.766103711840173e-09, 6.379885059408275e-10]\n",
    "# vvtt =  [-3.406490389849288e-09, -8.848504233071966e-13, -1.3255533547329837e-13, 2.864929132900664e-11, -1.2130217245697887e-10, -1.0315242064442198e-15, 6.019692547347847e-16, 1.6773531157755285e-05, -1.4440159163094667e-06, -1.0072301293462974e-08, 6.447369232947785e-10]\n",
    "# vvtt = [9.34079436112194e-11, -1.5675107224619307e-12, -2.608049641268132e-13, 5.399919317004255e-11, -1.6523783887169133e-10, -7.568434018329049e-16, 5.312503692619588e-16, 1.6559256722156905e-05, -1.4245484178243986e-06, -1.0150809638920009e-08, 6.371654965924299e-10]\n",
    "# vvtt =  [-4.548376899780377e-10, -1.4515260867545486e-12, -2.392481992332318e-13, 4.983732881111188e-11, -1.566221547378876e-10, -7.989540311428065e-16, 5.862910273508873e-16, 1.6634407216760075e-05, -1.437467700747607e-06, -1.0053312685134608e-08, 6.38107605184636e-10]\n",
    "# vvtt = [-3.9529296214350175e-10, -1.4148840859108847e-12, -2.2472261396433614e-13, 4.2876938958029136e-11, -1.5617050257381473e-10, -7.112726828302753e-16, 5.744542246797935e-16, 1.6253943886644902e-05, -1.4047688741068048e-06, -9.793029387578947e-09, 6.200694025323012e-10]\n",
    "# vvtt =  [-3.9442022023205665e-10, -1.406472813309731e-12, -2.2359764271341176e-13, 4.281756200990059e-11, -1.5556406347525313e-10, -7.068215082799723e-16, 5.720442945231675e-16, 1.618615600000024e-05, -1.404542857548178e-06, -9.72042230169304e-09, 6.200111377668741e-10]\n",
    "# vvtt = [-3.548330684715398e-10, -1.3864142816932345e-12, -2.2080734329857315e-13, 4.195989695157215e-11, -1.5415565681148144e-10, -4.873442356206607e-16, 5.575771086185493e-16, 1.5807498674479656e-05, -1.3678338314604715e-06, -9.533950786224575e-09, 6.00148832658105e-10]\n",
    "# vvtt = [-4.120736076514669e-10, -1.4169947817467603e-12, -2.2413682126264467e-13, 4.3047808887219104e-11, -1.5281509566787303e-10, -3.679804186376781e-16, 5.463396351506202e-16, 1.5597768639592316e-05, -1.3433158921386455e-06, -9.421222435344715e-09, 5.870578220520035e-10]\n",
    "# vvtt = [-4.055602815799549e-10, -1.4128371947304094e-12, -2.2176453661837746e-13, 4.272808295025534e-11, -1.5093181158763617e-10, -3.6674484141504946e-16, 5.435020211172908e-16, 1.550882276478362e-05, -1.3285480590260884e-06, -9.28563588135342e-09, 5.774766039414713e-10]\n",
    "# vvtt = [-3.422747273948892e-10, -1.3668113171216272e-12, -2.1693214457537602e-13, 4.0646223244364405e-11, -1.4732028432708626e-10, -4.32010124568554e-16, 4.767870711199899e-16, 1.5960626804991424e-05, -1.3757809250282142e-06, -9.617213066072282e-09, 6.023578236759241e-10]\n",
    "vvtt = [-9.409215333883902e-10, -1.3330027425096904e-12, -2.1439289025301e-13, 4.130550895499254e-11, -1.6001791503705213e-10, -1.7727415343670506e-16, 4.642333480842322e-16, 1.5885986108164696e-05, -1.322964628294778e-06, -9.34314429983351e-09, 5.699385244033649e-10]\n",
    "submit(Team_Key,list(vvtt))"
   ]
  },
  {
   "cell_type": "code",
   "execution_count": 25,
   "metadata": {},
   "outputs": [
    {
     "output_type": "stream",
     "name": "stdout",
     "text": [
      "[1.03160274e+11 1.04120680e+11 1.09547828e+11 1.09451510e+11\n 1.18022587e+11 1.15661389e+11 1.08627075e+11 1.11734214e+11\n 1.07717079e+11 1.06458631e+11]\n[4.21068392e+10 3.72196977e+10 3.46018655e+10 6.52978415e+10\n 7.44256908e+10 5.46887330e+10 4.74966330e+10 5.08300509e+10\n 4.74505916e+10 3.90747082e+10]\n[6.10534349e+10 6.69009823e+10 7.49459622e+10 4.41536688e+10\n 4.35968965e+10 6.09726557e+10 6.11304422e+10 6.09041631e+10\n 6.02664876e+10 6.73839226e+10]\n"
     ]
    },
    {
     "output_type": "display_data",
     "data": {
      "text/plain": "<Figure size 432x288 with 1 Axes>",
      "image/svg+xml": "<?xml version=\"1.0\" encoding=\"utf-8\" standalone=\"no\"?>\n<!DOCTYPE svg PUBLIC \"-//W3C//DTD SVG 1.1//EN\"\n  \"http://www.w3.org/Graphics/SVG/1.1/DTD/svg11.dtd\">\n<!-- Created with matplotlib (https://matplotlib.org/) -->\n<svg height=\"259.116562pt\" version=\"1.1\" viewBox=\"0 0 372.103125 259.116562\" width=\"372.103125pt\" xmlns=\"http://www.w3.org/2000/svg\" xmlns:xlink=\"http://www.w3.org/1999/xlink\">\n <metadata>\n  <rdf:RDF xmlns:cc=\"http://creativecommons.org/ns#\" xmlns:dc=\"http://purl.org/dc/elements/1.1/\" xmlns:rdf=\"http://www.w3.org/1999/02/22-rdf-syntax-ns#\">\n   <cc:Work>\n    <dc:type rdf:resource=\"http://purl.org/dc/dcmitype/StillImage\"/>\n    <dc:date>2021-03-16T19:52:15.181927</dc:date>\n    <dc:format>image/svg+xml</dc:format>\n    <dc:creator>\n     <cc:Agent>\n      <dc:title>Matplotlib v3.3.3, https://matplotlib.org/</dc:title>\n     </cc:Agent>\n    </dc:creator>\n   </cc:Work>\n  </rdf:RDF>\n </metadata>\n <defs>\n  <style type=\"text/css\">*{stroke-linecap:butt;stroke-linejoin:round;}</style>\n </defs>\n <g id=\"figure_1\">\n  <g id=\"patch_1\">\n   <path d=\"M 0 259.116562 \nL 372.103125 259.116562 \nL 372.103125 0 \nL 0 0 \nz\n\" style=\"fill:none;\"/>\n  </g>\n  <g id=\"axes_1\">\n   <g id=\"patch_2\">\n    <path d=\"M 30.103125 235.238437 \nL 364.903125 235.238437 \nL 364.903125 17.798437 \nL 30.103125 17.798437 \nz\n\" style=\"fill:#ffffff;\"/>\n   </g>\n   <g id=\"matplotlib.axis_1\">\n    <g id=\"xtick_1\">\n     <g id=\"line2d_1\">\n      <defs>\n       <path d=\"M 0 0 \nL 0 3.5 \n\" id=\"mf5404d2d2b\" style=\"stroke:#000000;stroke-width:0.8;\"/>\n      </defs>\n      <g>\n       <use style=\"stroke:#000000;stroke-width:0.8;\" x=\"45.321307\" xlink:href=\"#mf5404d2d2b\" y=\"235.238437\"/>\n      </g>\n     </g>\n     <g id=\"text_1\">\n      <!-- 1 -->\n      <g transform=\"translate(42.140057 249.836875)scale(0.1 -0.1)\">\n       <defs>\n        <path d=\"M 12.40625 8.296875 \nL 28.515625 8.296875 \nL 28.515625 63.921875 \nL 10.984375 60.40625 \nL 10.984375 69.390625 \nL 28.421875 72.90625 \nL 38.28125 72.90625 \nL 38.28125 8.296875 \nL 54.390625 8.296875 \nL 54.390625 0 \nL 12.40625 0 \nz\n\" id=\"DejaVuSans-49\"/>\n       </defs>\n       <use xlink:href=\"#DejaVuSans-49\"/>\n      </g>\n     </g>\n    </g>\n    <g id=\"xtick_2\">\n     <g id=\"line2d_2\">\n      <g>\n       <use style=\"stroke:#000000;stroke-width:0.8;\" x=\"79.139489\" xlink:href=\"#mf5404d2d2b\" y=\"235.238437\"/>\n      </g>\n     </g>\n     <g id=\"text_2\">\n      <!-- 2 -->\n      <g transform=\"translate(75.958239 249.836875)scale(0.1 -0.1)\">\n       <defs>\n        <path d=\"M 19.1875 8.296875 \nL 53.609375 8.296875 \nL 53.609375 0 \nL 7.328125 0 \nL 7.328125 8.296875 \nQ 12.9375 14.109375 22.625 23.890625 \nQ 32.328125 33.6875 34.8125 36.53125 \nQ 39.546875 41.84375 41.421875 45.53125 \nQ 43.3125 49.21875 43.3125 52.78125 \nQ 43.3125 58.59375 39.234375 62.25 \nQ 35.15625 65.921875 28.609375 65.921875 \nQ 23.96875 65.921875 18.8125 64.3125 \nQ 13.671875 62.703125 7.8125 59.421875 \nL 7.8125 69.390625 \nQ 13.765625 71.78125 18.9375 73 \nQ 24.125 74.21875 28.421875 74.21875 \nQ 39.75 74.21875 46.484375 68.546875 \nQ 53.21875 62.890625 53.21875 53.421875 \nQ 53.21875 48.921875 51.53125 44.890625 \nQ 49.859375 40.875 45.40625 35.40625 \nQ 44.1875 33.984375 37.640625 27.21875 \nQ 31.109375 20.453125 19.1875 8.296875 \nz\n\" id=\"DejaVuSans-50\"/>\n       </defs>\n       <use xlink:href=\"#DejaVuSans-50\"/>\n      </g>\n     </g>\n    </g>\n    <g id=\"xtick_3\">\n     <g id=\"line2d_3\">\n      <g>\n       <use style=\"stroke:#000000;stroke-width:0.8;\" x=\"112.95767\" xlink:href=\"#mf5404d2d2b\" y=\"235.238437\"/>\n      </g>\n     </g>\n     <g id=\"text_3\">\n      <!-- 3 -->\n      <g transform=\"translate(109.77642 249.836875)scale(0.1 -0.1)\">\n       <defs>\n        <path d=\"M 40.578125 39.3125 \nQ 47.65625 37.796875 51.625 33 \nQ 55.609375 28.21875 55.609375 21.1875 \nQ 55.609375 10.40625 48.1875 4.484375 \nQ 40.765625 -1.421875 27.09375 -1.421875 \nQ 22.515625 -1.421875 17.65625 -0.515625 \nQ 12.796875 0.390625 7.625 2.203125 \nL 7.625 11.71875 \nQ 11.71875 9.328125 16.59375 8.109375 \nQ 21.484375 6.890625 26.8125 6.890625 \nQ 36.078125 6.890625 40.9375 10.546875 \nQ 45.796875 14.203125 45.796875 21.1875 \nQ 45.796875 27.640625 41.28125 31.265625 \nQ 36.765625 34.90625 28.71875 34.90625 \nL 20.21875 34.90625 \nL 20.21875 43.015625 \nL 29.109375 43.015625 \nQ 36.375 43.015625 40.234375 45.921875 \nQ 44.09375 48.828125 44.09375 54.296875 \nQ 44.09375 59.90625 40.109375 62.90625 \nQ 36.140625 65.921875 28.71875 65.921875 \nQ 24.65625 65.921875 20.015625 65.03125 \nQ 15.375 64.15625 9.8125 62.3125 \nL 9.8125 71.09375 \nQ 15.4375 72.65625 20.34375 73.4375 \nQ 25.25 74.21875 29.59375 74.21875 \nQ 40.828125 74.21875 47.359375 69.109375 \nQ 53.90625 64.015625 53.90625 55.328125 \nQ 53.90625 49.265625 50.4375 45.09375 \nQ 46.96875 40.921875 40.578125 39.3125 \nz\n\" id=\"DejaVuSans-51\"/>\n       </defs>\n       <use xlink:href=\"#DejaVuSans-51\"/>\n      </g>\n     </g>\n    </g>\n    <g id=\"xtick_4\">\n     <g id=\"line2d_4\">\n      <g>\n       <use style=\"stroke:#000000;stroke-width:0.8;\" x=\"146.775852\" xlink:href=\"#mf5404d2d2b\" y=\"235.238437\"/>\n      </g>\n     </g>\n     <g id=\"text_4\">\n      <!-- 4 -->\n      <g transform=\"translate(143.594602 249.836875)scale(0.1 -0.1)\">\n       <defs>\n        <path d=\"M 37.796875 64.3125 \nL 12.890625 25.390625 \nL 37.796875 25.390625 \nz\nM 35.203125 72.90625 \nL 47.609375 72.90625 \nL 47.609375 25.390625 \nL 58.015625 25.390625 \nL 58.015625 17.1875 \nL 47.609375 17.1875 \nL 47.609375 0 \nL 37.796875 0 \nL 37.796875 17.1875 \nL 4.890625 17.1875 \nL 4.890625 26.703125 \nz\n\" id=\"DejaVuSans-52\"/>\n       </defs>\n       <use xlink:href=\"#DejaVuSans-52\"/>\n      </g>\n     </g>\n    </g>\n    <g id=\"xtick_5\">\n     <g id=\"line2d_5\">\n      <g>\n       <use style=\"stroke:#000000;stroke-width:0.8;\" x=\"180.594034\" xlink:href=\"#mf5404d2d2b\" y=\"235.238437\"/>\n      </g>\n     </g>\n     <g id=\"text_5\">\n      <!-- 5 -->\n      <g transform=\"translate(177.412784 249.836875)scale(0.1 -0.1)\">\n       <defs>\n        <path d=\"M 10.796875 72.90625 \nL 49.515625 72.90625 \nL 49.515625 64.59375 \nL 19.828125 64.59375 \nL 19.828125 46.734375 \nQ 21.96875 47.46875 24.109375 47.828125 \nQ 26.265625 48.1875 28.421875 48.1875 \nQ 40.625 48.1875 47.75 41.5 \nQ 54.890625 34.8125 54.890625 23.390625 \nQ 54.890625 11.625 47.5625 5.09375 \nQ 40.234375 -1.421875 26.90625 -1.421875 \nQ 22.3125 -1.421875 17.546875 -0.640625 \nQ 12.796875 0.140625 7.71875 1.703125 \nL 7.71875 11.625 \nQ 12.109375 9.234375 16.796875 8.0625 \nQ 21.484375 6.890625 26.703125 6.890625 \nQ 35.15625 6.890625 40.078125 11.328125 \nQ 45.015625 15.765625 45.015625 23.390625 \nQ 45.015625 31 40.078125 35.4375 \nQ 35.15625 39.890625 26.703125 39.890625 \nQ 22.75 39.890625 18.8125 39.015625 \nQ 14.890625 38.140625 10.796875 36.28125 \nz\n\" id=\"DejaVuSans-53\"/>\n       </defs>\n       <use xlink:href=\"#DejaVuSans-53\"/>\n      </g>\n     </g>\n    </g>\n    <g id=\"xtick_6\">\n     <g id=\"line2d_6\">\n      <g>\n       <use style=\"stroke:#000000;stroke-width:0.8;\" x=\"214.412216\" xlink:href=\"#mf5404d2d2b\" y=\"235.238437\"/>\n      </g>\n     </g>\n     <g id=\"text_6\">\n      <!-- 6 -->\n      <g transform=\"translate(211.230966 249.836875)scale(0.1 -0.1)\">\n       <defs>\n        <path d=\"M 33.015625 40.375 \nQ 26.375 40.375 22.484375 35.828125 \nQ 18.609375 31.296875 18.609375 23.390625 \nQ 18.609375 15.53125 22.484375 10.953125 \nQ 26.375 6.390625 33.015625 6.390625 \nQ 39.65625 6.390625 43.53125 10.953125 \nQ 47.40625 15.53125 47.40625 23.390625 \nQ 47.40625 31.296875 43.53125 35.828125 \nQ 39.65625 40.375 33.015625 40.375 \nz\nM 52.59375 71.296875 \nL 52.59375 62.3125 \nQ 48.875 64.0625 45.09375 64.984375 \nQ 41.3125 65.921875 37.59375 65.921875 \nQ 27.828125 65.921875 22.671875 59.328125 \nQ 17.53125 52.734375 16.796875 39.40625 \nQ 19.671875 43.65625 24.015625 45.921875 \nQ 28.375 48.1875 33.59375 48.1875 \nQ 44.578125 48.1875 50.953125 41.515625 \nQ 57.328125 34.859375 57.328125 23.390625 \nQ 57.328125 12.15625 50.6875 5.359375 \nQ 44.046875 -1.421875 33.015625 -1.421875 \nQ 20.359375 -1.421875 13.671875 8.265625 \nQ 6.984375 17.96875 6.984375 36.375 \nQ 6.984375 53.65625 15.1875 63.9375 \nQ 23.390625 74.21875 37.203125 74.21875 \nQ 40.921875 74.21875 44.703125 73.484375 \nQ 48.484375 72.75 52.59375 71.296875 \nz\n\" id=\"DejaVuSans-54\"/>\n       </defs>\n       <use xlink:href=\"#DejaVuSans-54\"/>\n      </g>\n     </g>\n    </g>\n    <g id=\"xtick_7\">\n     <g id=\"line2d_7\">\n      <g>\n       <use style=\"stroke:#000000;stroke-width:0.8;\" x=\"248.230398\" xlink:href=\"#mf5404d2d2b\" y=\"235.238437\"/>\n      </g>\n     </g>\n     <g id=\"text_7\">\n      <!-- 7 -->\n      <g transform=\"translate(245.049148 249.836875)scale(0.1 -0.1)\">\n       <defs>\n        <path d=\"M 8.203125 72.90625 \nL 55.078125 72.90625 \nL 55.078125 68.703125 \nL 28.609375 0 \nL 18.3125 0 \nL 43.21875 64.59375 \nL 8.203125 64.59375 \nz\n\" id=\"DejaVuSans-55\"/>\n       </defs>\n       <use xlink:href=\"#DejaVuSans-55\"/>\n      </g>\n     </g>\n    </g>\n    <g id=\"xtick_8\">\n     <g id=\"line2d_8\">\n      <g>\n       <use style=\"stroke:#000000;stroke-width:0.8;\" x=\"282.04858\" xlink:href=\"#mf5404d2d2b\" y=\"235.238437\"/>\n      </g>\n     </g>\n     <g id=\"text_8\">\n      <!-- 8 -->\n      <g transform=\"translate(278.86733 249.836875)scale(0.1 -0.1)\">\n       <defs>\n        <path d=\"M 31.78125 34.625 \nQ 24.75 34.625 20.71875 30.859375 \nQ 16.703125 27.09375 16.703125 20.515625 \nQ 16.703125 13.921875 20.71875 10.15625 \nQ 24.75 6.390625 31.78125 6.390625 \nQ 38.8125 6.390625 42.859375 10.171875 \nQ 46.921875 13.96875 46.921875 20.515625 \nQ 46.921875 27.09375 42.890625 30.859375 \nQ 38.875 34.625 31.78125 34.625 \nz\nM 21.921875 38.8125 \nQ 15.578125 40.375 12.03125 44.71875 \nQ 8.5 49.078125 8.5 55.328125 \nQ 8.5 64.0625 14.71875 69.140625 \nQ 20.953125 74.21875 31.78125 74.21875 \nQ 42.671875 74.21875 48.875 69.140625 \nQ 55.078125 64.0625 55.078125 55.328125 \nQ 55.078125 49.078125 51.53125 44.71875 \nQ 48 40.375 41.703125 38.8125 \nQ 48.828125 37.15625 52.796875 32.3125 \nQ 56.78125 27.484375 56.78125 20.515625 \nQ 56.78125 9.90625 50.3125 4.234375 \nQ 43.84375 -1.421875 31.78125 -1.421875 \nQ 19.734375 -1.421875 13.25 4.234375 \nQ 6.78125 9.90625 6.78125 20.515625 \nQ 6.78125 27.484375 10.78125 32.3125 \nQ 14.796875 37.15625 21.921875 38.8125 \nz\nM 18.3125 54.390625 \nQ 18.3125 48.734375 21.84375 45.5625 \nQ 25.390625 42.390625 31.78125 42.390625 \nQ 38.140625 42.390625 41.71875 45.5625 \nQ 45.3125 48.734375 45.3125 54.390625 \nQ 45.3125 60.0625 41.71875 63.234375 \nQ 38.140625 66.40625 31.78125 66.40625 \nQ 25.390625 66.40625 21.84375 63.234375 \nQ 18.3125 60.0625 18.3125 54.390625 \nz\n\" id=\"DejaVuSans-56\"/>\n       </defs>\n       <use xlink:href=\"#DejaVuSans-56\"/>\n      </g>\n     </g>\n    </g>\n    <g id=\"xtick_9\">\n     <g id=\"line2d_9\">\n      <g>\n       <use style=\"stroke:#000000;stroke-width:0.8;\" x=\"315.866761\" xlink:href=\"#mf5404d2d2b\" y=\"235.238437\"/>\n      </g>\n     </g>\n     <g id=\"text_9\">\n      <!-- 9 -->\n      <g transform=\"translate(312.685511 249.836875)scale(0.1 -0.1)\">\n       <defs>\n        <path d=\"M 10.984375 1.515625 \nL 10.984375 10.5 \nQ 14.703125 8.734375 18.5 7.8125 \nQ 22.3125 6.890625 25.984375 6.890625 \nQ 35.75 6.890625 40.890625 13.453125 \nQ 46.046875 20.015625 46.78125 33.40625 \nQ 43.953125 29.203125 39.59375 26.953125 \nQ 35.25 24.703125 29.984375 24.703125 \nQ 19.046875 24.703125 12.671875 31.3125 \nQ 6.296875 37.9375 6.296875 49.421875 \nQ 6.296875 60.640625 12.9375 67.421875 \nQ 19.578125 74.21875 30.609375 74.21875 \nQ 43.265625 74.21875 49.921875 64.515625 \nQ 56.59375 54.828125 56.59375 36.375 \nQ 56.59375 19.140625 48.40625 8.859375 \nQ 40.234375 -1.421875 26.421875 -1.421875 \nQ 22.703125 -1.421875 18.890625 -0.6875 \nQ 15.09375 0.046875 10.984375 1.515625 \nz\nM 30.609375 32.421875 \nQ 37.25 32.421875 41.125 36.953125 \nQ 45.015625 41.5 45.015625 49.421875 \nQ 45.015625 57.28125 41.125 61.84375 \nQ 37.25 66.40625 30.609375 66.40625 \nQ 23.96875 66.40625 20.09375 61.84375 \nQ 16.21875 57.28125 16.21875 49.421875 \nQ 16.21875 41.5 20.09375 36.953125 \nQ 23.96875 32.421875 30.609375 32.421875 \nz\n\" id=\"DejaVuSans-57\"/>\n       </defs>\n       <use xlink:href=\"#DejaVuSans-57\"/>\n      </g>\n     </g>\n    </g>\n    <g id=\"xtick_10\">\n     <g id=\"line2d_10\">\n      <g>\n       <use style=\"stroke:#000000;stroke-width:0.8;\" x=\"349.684943\" xlink:href=\"#mf5404d2d2b\" y=\"235.238437\"/>\n      </g>\n     </g>\n     <g id=\"text_10\">\n      <!-- 10 -->\n      <g transform=\"translate(343.322443 249.836875)scale(0.1 -0.1)\">\n       <defs>\n        <path d=\"M 31.78125 66.40625 \nQ 24.171875 66.40625 20.328125 58.90625 \nQ 16.5 51.421875 16.5 36.375 \nQ 16.5 21.390625 20.328125 13.890625 \nQ 24.171875 6.390625 31.78125 6.390625 \nQ 39.453125 6.390625 43.28125 13.890625 \nQ 47.125 21.390625 47.125 36.375 \nQ 47.125 51.421875 43.28125 58.90625 \nQ 39.453125 66.40625 31.78125 66.40625 \nz\nM 31.78125 74.21875 \nQ 44.046875 74.21875 50.515625 64.515625 \nQ 56.984375 54.828125 56.984375 36.375 \nQ 56.984375 17.96875 50.515625 8.265625 \nQ 44.046875 -1.421875 31.78125 -1.421875 \nQ 19.53125 -1.421875 13.0625 8.265625 \nQ 6.59375 17.96875 6.59375 36.375 \nQ 6.59375 54.828125 13.0625 64.515625 \nQ 19.53125 74.21875 31.78125 74.21875 \nz\n\" id=\"DejaVuSans-48\"/>\n       </defs>\n       <use xlink:href=\"#DejaVuSans-49\"/>\n       <use x=\"63.623047\" xlink:href=\"#DejaVuSans-48\"/>\n      </g>\n     </g>\n    </g>\n   </g>\n   <g id=\"matplotlib.axis_2\">\n    <g id=\"ytick_1\">\n     <g id=\"line2d_11\">\n      <defs>\n       <path d=\"M 0 0 \nL -3.5 0 \n\" id=\"m445c87c138\" style=\"stroke:#000000;stroke-width:0.8;\"/>\n      </defs>\n      <g>\n       <use style=\"stroke:#000000;stroke-width:0.8;\" x=\"30.103125\" xlink:href=\"#m445c87c138\" y=\"212.563447\"/>\n      </g>\n     </g>\n     <g id=\"text_11\">\n      <!-- 0.4 -->\n      <g transform=\"translate(7.2 216.362666)scale(0.1 -0.1)\">\n       <defs>\n        <path d=\"M 10.6875 12.40625 \nL 21 12.40625 \nL 21 0 \nL 10.6875 0 \nz\n\" id=\"DejaVuSans-46\"/>\n       </defs>\n       <use xlink:href=\"#DejaVuSans-48\"/>\n       <use x=\"63.623047\" xlink:href=\"#DejaVuSans-46\"/>\n       <use x=\"95.410156\" xlink:href=\"#DejaVuSans-52\"/>\n      </g>\n     </g>\n    </g>\n    <g id=\"ytick_2\">\n     <g id=\"line2d_12\">\n      <g>\n       <use style=\"stroke:#000000;stroke-width:0.8;\" x=\"30.103125\" xlink:href=\"#m445c87c138\" y=\"165.171691\"/>\n      </g>\n     </g>\n     <g id=\"text_12\">\n      <!-- 0.6 -->\n      <g transform=\"translate(7.2 168.97091)scale(0.1 -0.1)\">\n       <use xlink:href=\"#DejaVuSans-48\"/>\n       <use x=\"63.623047\" xlink:href=\"#DejaVuSans-46\"/>\n       <use x=\"95.410156\" xlink:href=\"#DejaVuSans-54\"/>\n      </g>\n     </g>\n    </g>\n    <g id=\"ytick_3\">\n     <g id=\"line2d_13\">\n      <g>\n       <use style=\"stroke:#000000;stroke-width:0.8;\" x=\"30.103125\" xlink:href=\"#m445c87c138\" y=\"117.779934\"/>\n      </g>\n     </g>\n     <g id=\"text_13\">\n      <!-- 0.8 -->\n      <g transform=\"translate(7.2 121.579153)scale(0.1 -0.1)\">\n       <use xlink:href=\"#DejaVuSans-48\"/>\n       <use x=\"63.623047\" xlink:href=\"#DejaVuSans-46\"/>\n       <use x=\"95.410156\" xlink:href=\"#DejaVuSans-56\"/>\n      </g>\n     </g>\n    </g>\n    <g id=\"ytick_4\">\n     <g id=\"line2d_14\">\n      <g>\n       <use style=\"stroke:#000000;stroke-width:0.8;\" x=\"30.103125\" xlink:href=\"#m445c87c138\" y=\"70.388178\"/>\n      </g>\n     </g>\n     <g id=\"text_14\">\n      <!-- 1.0 -->\n      <g transform=\"translate(7.2 74.187396)scale(0.1 -0.1)\">\n       <use xlink:href=\"#DejaVuSans-49\"/>\n       <use x=\"63.623047\" xlink:href=\"#DejaVuSans-46\"/>\n       <use x=\"95.410156\" xlink:href=\"#DejaVuSans-48\"/>\n      </g>\n     </g>\n    </g>\n    <g id=\"ytick_5\">\n     <g id=\"line2d_15\">\n      <g>\n       <use style=\"stroke:#000000;stroke-width:0.8;\" x=\"30.103125\" xlink:href=\"#m445c87c138\" y=\"22.996421\"/>\n      </g>\n     </g>\n     <g id=\"text_15\">\n      <!-- 1.2 -->\n      <g transform=\"translate(7.2 26.79564)scale(0.1 -0.1)\">\n       <use xlink:href=\"#DejaVuSans-49\"/>\n       <use x=\"63.623047\" xlink:href=\"#DejaVuSans-46\"/>\n       <use x=\"95.410156\" xlink:href=\"#DejaVuSans-50\"/>\n      </g>\n     </g>\n    </g>\n    <g id=\"text_16\">\n     <!-- 1e11 -->\n     <g transform=\"translate(30.103125 14.798437)scale(0.1 -0.1)\">\n      <defs>\n       <path d=\"M 56.203125 29.59375 \nL 56.203125 25.203125 \nL 14.890625 25.203125 \nQ 15.484375 15.921875 20.484375 11.0625 \nQ 25.484375 6.203125 34.421875 6.203125 \nQ 39.59375 6.203125 44.453125 7.46875 \nQ 49.3125 8.734375 54.109375 11.28125 \nL 54.109375 2.78125 \nQ 49.265625 0.734375 44.1875 -0.34375 \nQ 39.109375 -1.421875 33.890625 -1.421875 \nQ 20.796875 -1.421875 13.15625 6.1875 \nQ 5.515625 13.8125 5.515625 26.8125 \nQ 5.515625 40.234375 12.765625 48.109375 \nQ 20.015625 56 32.328125 56 \nQ 43.359375 56 49.78125 48.890625 \nQ 56.203125 41.796875 56.203125 29.59375 \nz\nM 47.21875 32.234375 \nQ 47.125 39.59375 43.09375 43.984375 \nQ 39.0625 48.390625 32.421875 48.390625 \nQ 24.90625 48.390625 20.390625 44.140625 \nQ 15.875 39.890625 15.1875 32.171875 \nz\n\" id=\"DejaVuSans-101\"/>\n      </defs>\n      <use xlink:href=\"#DejaVuSans-49\"/>\n      <use x=\"63.623047\" xlink:href=\"#DejaVuSans-101\"/>\n      <use x=\"125.146484\" xlink:href=\"#DejaVuSans-49\"/>\n      <use x=\"188.769531\" xlink:href=\"#DejaVuSans-49\"/>\n     </g>\n    </g>\n   </g>\n   <g id=\"line2d_16\">\n    <path clip-path=\"url(#p8de450f22f)\" d=\"M 45.321307 62.89963 \nL 79.139489 60.623864 \nL 112.95767 47.763761 \nL 146.775852 47.991994 \nL 180.594034 27.682074 \nL 214.412216 33.277141 \nL 248.230398 49.945565 \nL 282.04858 42.582927 \nL 315.866761 52.101881 \nL 349.684943 55.083885 \n\" style=\"fill:none;stroke:#ff0000;stroke-linecap:square;stroke-width:1.5;\"/>\n   </g>\n   <g id=\"line2d_17\">\n    <path clip-path=\"url(#p8de450f22f)\" d=\"M 45.321307 162.675484 \nL 79.139489 148.819207 \nL 112.95767 129.755921 \nL 146.775852 202.720964 \nL 180.594034 204.040285 \nL 214.412216 162.866898 \nL 248.230398 162.493009 \nL 282.04858 163.029197 \nL 315.866761 164.540225 \nL 349.684943 147.674838 \n\" style=\"fill:none;stroke:#0000ff;stroke-linecap:square;stroke-width:1.5;\"/>\n   </g>\n   <g id=\"line2d_18\">\n    <path clip-path=\"url(#p8de450f22f)\" d=\"M 45.321307 207.571107 \nL 79.139489 219.151618 \nL 112.95767 225.354801 \nL 146.775852 152.61799 \nL 180.594034 130.988749 \nL 214.412216 177.757204 \nL 248.230398 194.799517 \nL 282.04858 186.90069 \nL 315.866761 194.908616 \nL 349.684943 214.756008 \n\" style=\"fill:none;stroke:#008000;stroke-linecap:square;stroke-width:1.5;\"/>\n   </g>\n   <g id=\"patch_3\">\n    <path d=\"M 30.103125 235.238437 \nL 30.103125 17.798437 \n\" style=\"fill:none;stroke:#000000;stroke-linecap:square;stroke-linejoin:miter;stroke-width:0.8;\"/>\n   </g>\n   <g id=\"patch_4\">\n    <path d=\"M 364.903125 235.238437 \nL 364.903125 17.798437 \n\" style=\"fill:none;stroke:#000000;stroke-linecap:square;stroke-linejoin:miter;stroke-width:0.8;\"/>\n   </g>\n   <g id=\"patch_5\">\n    <path d=\"M 30.103125 235.238437 \nL 364.903125 235.238437 \n\" style=\"fill:none;stroke:#000000;stroke-linecap:square;stroke-linejoin:miter;stroke-width:0.8;\"/>\n   </g>\n   <g id=\"patch_6\">\n    <path d=\"M 30.103125 17.798437 \nL 364.903125 17.798437 \n\" style=\"fill:none;stroke:#000000;stroke-linecap:square;stroke-linejoin:miter;stroke-width:0.8;\"/>\n   </g>\n   <g id=\"legend_1\">\n    <g id=\"patch_7\">\n     <path d=\"M 282.604688 150.31375 \nL 357.903125 150.31375 \nQ 359.903125 150.31375 359.903125 148.31375 \nL 359.903125 104.723125 \nQ 359.903125 102.723125 357.903125 102.723125 \nL 282.604688 102.723125 \nQ 280.604688 102.723125 280.604688 104.723125 \nL 280.604688 148.31375 \nQ 280.604688 150.31375 282.604688 150.31375 \nz\n\" style=\"fill:#ffffff;opacity:0.8;stroke:#cccccc;stroke-linejoin:miter;\"/>\n    </g>\n    <g id=\"line2d_19\">\n     <path d=\"M 284.604688 110.821562 \nL 304.604688 110.821562 \n\" style=\"fill:none;stroke:#ff0000;stroke-linecap:square;stroke-width:1.5;\"/>\n    </g>\n    <g id=\"line2d_20\"/>\n    <g id=\"text_17\">\n     <!-- Fitness -->\n     <g transform=\"translate(312.604688 114.321562)scale(0.1 -0.1)\">\n      <defs>\n       <path d=\"M 9.8125 72.90625 \nL 51.703125 72.90625 \nL 51.703125 64.59375 \nL 19.671875 64.59375 \nL 19.671875 43.109375 \nL 48.578125 43.109375 \nL 48.578125 34.8125 \nL 19.671875 34.8125 \nL 19.671875 0 \nL 9.8125 0 \nz\n\" id=\"DejaVuSans-70\"/>\n       <path d=\"M 9.421875 54.6875 \nL 18.40625 54.6875 \nL 18.40625 0 \nL 9.421875 0 \nz\nM 9.421875 75.984375 \nL 18.40625 75.984375 \nL 18.40625 64.59375 \nL 9.421875 64.59375 \nz\n\" id=\"DejaVuSans-105\"/>\n       <path d=\"M 18.3125 70.21875 \nL 18.3125 54.6875 \nL 36.8125 54.6875 \nL 36.8125 47.703125 \nL 18.3125 47.703125 \nL 18.3125 18.015625 \nQ 18.3125 11.328125 20.140625 9.421875 \nQ 21.96875 7.515625 27.59375 7.515625 \nL 36.8125 7.515625 \nL 36.8125 0 \nL 27.59375 0 \nQ 17.1875 0 13.234375 3.875 \nQ 9.28125 7.765625 9.28125 18.015625 \nL 9.28125 47.703125 \nL 2.6875 47.703125 \nL 2.6875 54.6875 \nL 9.28125 54.6875 \nL 9.28125 70.21875 \nz\n\" id=\"DejaVuSans-116\"/>\n       <path d=\"M 54.890625 33.015625 \nL 54.890625 0 \nL 45.90625 0 \nL 45.90625 32.71875 \nQ 45.90625 40.484375 42.875 44.328125 \nQ 39.84375 48.1875 33.796875 48.1875 \nQ 26.515625 48.1875 22.3125 43.546875 \nQ 18.109375 38.921875 18.109375 30.90625 \nL 18.109375 0 \nL 9.078125 0 \nL 9.078125 54.6875 \nL 18.109375 54.6875 \nL 18.109375 46.1875 \nQ 21.34375 51.125 25.703125 53.5625 \nQ 30.078125 56 35.796875 56 \nQ 45.21875 56 50.046875 50.171875 \nQ 54.890625 44.34375 54.890625 33.015625 \nz\n\" id=\"DejaVuSans-110\"/>\n       <path d=\"M 44.28125 53.078125 \nL 44.28125 44.578125 \nQ 40.484375 46.53125 36.375 47.5 \nQ 32.28125 48.484375 27.875 48.484375 \nQ 21.1875 48.484375 17.84375 46.4375 \nQ 14.5 44.390625 14.5 40.28125 \nQ 14.5 37.15625 16.890625 35.375 \nQ 19.28125 33.59375 26.515625 31.984375 \nL 29.59375 31.296875 \nQ 39.15625 29.25 43.1875 25.515625 \nQ 47.21875 21.78125 47.21875 15.09375 \nQ 47.21875 7.46875 41.1875 3.015625 \nQ 35.15625 -1.421875 24.609375 -1.421875 \nQ 20.21875 -1.421875 15.453125 -0.5625 \nQ 10.6875 0.296875 5.421875 2 \nL 5.421875 11.28125 \nQ 10.40625 8.6875 15.234375 7.390625 \nQ 20.0625 6.109375 24.8125 6.109375 \nQ 31.15625 6.109375 34.5625 8.28125 \nQ 37.984375 10.453125 37.984375 14.40625 \nQ 37.984375 18.0625 35.515625 20.015625 \nQ 33.0625 21.96875 24.703125 23.78125 \nL 21.578125 24.515625 \nQ 13.234375 26.265625 9.515625 29.90625 \nQ 5.8125 33.546875 5.8125 39.890625 \nQ 5.8125 47.609375 11.28125 51.796875 \nQ 16.75 56 26.8125 56 \nQ 31.78125 56 36.171875 55.265625 \nQ 40.578125 54.546875 44.28125 53.078125 \nz\n\" id=\"DejaVuSans-115\"/>\n      </defs>\n      <use xlink:href=\"#DejaVuSans-70\"/>\n      <use x=\"50.269531\" xlink:href=\"#DejaVuSans-105\"/>\n      <use x=\"78.052734\" xlink:href=\"#DejaVuSans-116\"/>\n      <use x=\"117.261719\" xlink:href=\"#DejaVuSans-110\"/>\n      <use x=\"180.640625\" xlink:href=\"#DejaVuSans-101\"/>\n      <use x=\"242.164062\" xlink:href=\"#DejaVuSans-115\"/>\n      <use x=\"294.263672\" xlink:href=\"#DejaVuSans-115\"/>\n     </g>\n    </g>\n    <g id=\"line2d_21\">\n     <path d=\"M 284.604688 125.499687 \nL 304.604688 125.499687 \n\" style=\"fill:none;stroke:#0000ff;stroke-linecap:square;stroke-width:1.5;\"/>\n    </g>\n    <g id=\"line2d_22\"/>\n    <g id=\"text_18\">\n     <!-- Train_err -->\n     <g transform=\"translate(312.604688 128.999687)scale(0.1 -0.1)\">\n      <defs>\n       <path d=\"M -0.296875 72.90625 \nL 61.375 72.90625 \nL 61.375 64.59375 \nL 35.5 64.59375 \nL 35.5 0 \nL 25.59375 0 \nL 25.59375 64.59375 \nL -0.296875 64.59375 \nz\n\" id=\"DejaVuSans-84\"/>\n       <path d=\"M 41.109375 46.296875 \nQ 39.59375 47.171875 37.8125 47.578125 \nQ 36.03125 48 33.890625 48 \nQ 26.265625 48 22.1875 43.046875 \nQ 18.109375 38.09375 18.109375 28.8125 \nL 18.109375 0 \nL 9.078125 0 \nL 9.078125 54.6875 \nL 18.109375 54.6875 \nL 18.109375 46.1875 \nQ 20.953125 51.171875 25.484375 53.578125 \nQ 30.03125 56 36.53125 56 \nQ 37.453125 56 38.578125 55.875 \nQ 39.703125 55.765625 41.0625 55.515625 \nz\n\" id=\"DejaVuSans-114\"/>\n       <path d=\"M 34.28125 27.484375 \nQ 23.390625 27.484375 19.1875 25 \nQ 14.984375 22.515625 14.984375 16.5 \nQ 14.984375 11.71875 18.140625 8.90625 \nQ 21.296875 6.109375 26.703125 6.109375 \nQ 34.1875 6.109375 38.703125 11.40625 \nQ 43.21875 16.703125 43.21875 25.484375 \nL 43.21875 27.484375 \nz\nM 52.203125 31.203125 \nL 52.203125 0 \nL 43.21875 0 \nL 43.21875 8.296875 \nQ 40.140625 3.328125 35.546875 0.953125 \nQ 30.953125 -1.421875 24.3125 -1.421875 \nQ 15.921875 -1.421875 10.953125 3.296875 \nQ 6 8.015625 6 15.921875 \nQ 6 25.140625 12.171875 29.828125 \nQ 18.359375 34.515625 30.609375 34.515625 \nL 43.21875 34.515625 \nL 43.21875 35.40625 \nQ 43.21875 41.609375 39.140625 45 \nQ 35.0625 48.390625 27.6875 48.390625 \nQ 23 48.390625 18.546875 47.265625 \nQ 14.109375 46.140625 10.015625 43.890625 \nL 10.015625 52.203125 \nQ 14.9375 54.109375 19.578125 55.046875 \nQ 24.21875 56 28.609375 56 \nQ 40.484375 56 46.34375 49.84375 \nQ 52.203125 43.703125 52.203125 31.203125 \nz\n\" id=\"DejaVuSans-97\"/>\n       <path d=\"M 50.984375 -16.609375 \nL 50.984375 -23.578125 \nL -0.984375 -23.578125 \nL -0.984375 -16.609375 \nz\n\" id=\"DejaVuSans-95\"/>\n      </defs>\n      <use xlink:href=\"#DejaVuSans-84\"/>\n      <use x=\"46.333984\" xlink:href=\"#DejaVuSans-114\"/>\n      <use x=\"87.447266\" xlink:href=\"#DejaVuSans-97\"/>\n      <use x=\"148.726562\" xlink:href=\"#DejaVuSans-105\"/>\n      <use x=\"176.509766\" xlink:href=\"#DejaVuSans-110\"/>\n      <use x=\"239.888672\" xlink:href=\"#DejaVuSans-95\"/>\n      <use x=\"289.888672\" xlink:href=\"#DejaVuSans-101\"/>\n      <use x=\"351.412109\" xlink:href=\"#DejaVuSans-114\"/>\n      <use x=\"390.775391\" xlink:href=\"#DejaVuSans-114\"/>\n     </g>\n    </g>\n    <g id=\"line2d_23\">\n     <path d=\"M 284.604688 140.455937 \nL 304.604688 140.455937 \n\" style=\"fill:none;stroke:#008000;stroke-linecap:square;stroke-width:1.5;\"/>\n    </g>\n    <g id=\"line2d_24\"/>\n    <g id=\"text_19\">\n     <!-- Valid_err -->\n     <g transform=\"translate(312.604688 143.955937)scale(0.1 -0.1)\">\n      <defs>\n       <path d=\"M 28.609375 0 \nL 0.78125 72.90625 \nL 11.078125 72.90625 \nL 34.1875 11.53125 \nL 57.328125 72.90625 \nL 67.578125 72.90625 \nL 39.796875 0 \nz\n\" id=\"DejaVuSans-86\"/>\n       <path d=\"M 9.421875 75.984375 \nL 18.40625 75.984375 \nL 18.40625 0 \nL 9.421875 0 \nz\n\" id=\"DejaVuSans-108\"/>\n       <path d=\"M 45.40625 46.390625 \nL 45.40625 75.984375 \nL 54.390625 75.984375 \nL 54.390625 0 \nL 45.40625 0 \nL 45.40625 8.203125 \nQ 42.578125 3.328125 38.25 0.953125 \nQ 33.9375 -1.421875 27.875 -1.421875 \nQ 17.96875 -1.421875 11.734375 6.484375 \nQ 5.515625 14.40625 5.515625 27.296875 \nQ 5.515625 40.1875 11.734375 48.09375 \nQ 17.96875 56 27.875 56 \nQ 33.9375 56 38.25 53.625 \nQ 42.578125 51.265625 45.40625 46.390625 \nz\nM 14.796875 27.296875 \nQ 14.796875 17.390625 18.875 11.75 \nQ 22.953125 6.109375 30.078125 6.109375 \nQ 37.203125 6.109375 41.296875 11.75 \nQ 45.40625 17.390625 45.40625 27.296875 \nQ 45.40625 37.203125 41.296875 42.84375 \nQ 37.203125 48.484375 30.078125 48.484375 \nQ 22.953125 48.484375 18.875 42.84375 \nQ 14.796875 37.203125 14.796875 27.296875 \nz\n\" id=\"DejaVuSans-100\"/>\n      </defs>\n      <use xlink:href=\"#DejaVuSans-86\"/>\n      <use x=\"60.658203\" xlink:href=\"#DejaVuSans-97\"/>\n      <use x=\"121.9375\" xlink:href=\"#DejaVuSans-108\"/>\n      <use x=\"149.720703\" xlink:href=\"#DejaVuSans-105\"/>\n      <use x=\"177.503906\" xlink:href=\"#DejaVuSans-100\"/>\n      <use x=\"240.980469\" xlink:href=\"#DejaVuSans-95\"/>\n      <use x=\"290.980469\" xlink:href=\"#DejaVuSans-101\"/>\n      <use x=\"352.503906\" xlink:href=\"#DejaVuSans-114\"/>\n      <use x=\"391.867188\" xlink:href=\"#DejaVuSans-114\"/>\n     </g>\n    </g>\n   </g>\n  </g>\n </g>\n <defs>\n  <clipPath id=\"p8de450f22f\">\n   <rect height=\"217.44\" width=\"334.8\" x=\"30.103125\" y=\"17.798437\"/>\n  </clipPath>\n </defs>\n</svg>\n",
      "image/png": "[encoded data removed]"
     },
     "metadata": {
      "needs_background": "light"
     }
    }
   ],
   "source": [
    "graph_name = name_file + '.jpg'\n",
    "best_fit_gen = np.array(best_fit_gen, dtype = np.double)\n",
    "best_train_err_gen = np.array(best_train_err_gen, dtype = np.double)\n",
    "best_valid_err_gen = np.array(best_valid_err_gen, dtype = np.double)\n",
    "print(best_fit_gen)\n",
    "print(best_valid_err_gen)\n",
    "print(best_train_err_gen)\n",
    "plt.plot(range(1,11) , best_fit_gen , color = \"red\")\n",
    "plt.plot(range(1,11) , best_train_err_gen, color =\"blue\" )\n",
    "plt.plot(range(1,11) ,best_valid_err_gen , color = \"green\")\n",
    "plt.xticks(range(1,11))\n",
    "plt.legend([\"Fitness\", \"Train_err\", \"Valid_err\"])\n",
    "# plt.show()\n",
    "plt.savefig(graph_name)"
   ]
  },
  {
   "cell_type": "code",
   "execution_count": 15,
   "metadata": {},
   "outputs": [
    {
     "output_type": "stream",
     "name": "stdout",
     "text": [
      "1\n2\n4\n5\n8\n9\n"
     ]
    }
   ],
   "source": [
    "import numpy as np\n",
    "initial_array = [0.0, -1.45799022e-12, -2.28980078e-13,  4.62010753e-11, -1.75214813e-10, -1.83669770e-15,  8.52944060e-16,  2.29423303e-05, -2.04721003e-06, -1.59792834e-08,  9.98214034e-10]\n",
    "check_arr =    [5.676391085132782e-10, -1.3857292723118332e-12, -2.2653919384209594e-13, 4.634432566014288e-11, -1.8256651150328223e-10, -1.8988854373633673e-15, 7.962947915504994e-16, 2.351580929846117e-05, -2.0282321098290316e-06, -1.56204124253323e-08, 9.43748938900726e-10]\n",
    "initial_array = np.array(initial_array, dtype = np.double)\n",
    "check_arr = np.array(check_arr , dtype = np.double)\n",
    "max_val = initial_array + initial_array/10\n",
    "max_val = np.clip(max_val,-10,+10)\n",
    "min_val = initial_array - initial_array/10\n",
    "min_val = np.clip(min_val,-10,+10)\n",
    "max_val[0] = initial_array[0] + np.mean(initial_array)/1000\n",
    "min_val[0] = initial_array[0] - np.mean(initial_array)/1000\n",
    "for i in range(0,11):\n",
    "    if ( check_arr[i] >max_val[i] or check_arr [i]<min_val[i]):\n",
    "        print(i)"
   ]
  },
  {
   "cell_type": "code",
   "execution_count": 48,
   "metadata": {},
   "outputs": [
    {
     "output_type": "execute_result",
     "data": {
      "text/plain": [
       "[-4.091882822827459e-12,\n",
       " -1.3666199456383565e-12,\n",
       " -2.1581806133907695e-13,\n",
       " 4.269019584928234e-11,\n",
       " -1.6507773041067722e-10,\n",
       " -1.7148731936706806e-15,\n",
       " 7.596187431130764e-16,\n",
       " 2.1511788255729296e-05,\n",
       " -1.9149444693608288e-06,\n",
       " -1.482336292882705e-08,\n",
       " 9.170266200526416e-10]"
      ]
     },
     "metadata": {},
     "execution_count": 48
    }
   ],
   "source": [
    "best_weights_set"
   ]
  },
  {
   "cell_type": "code",
   "execution_count": 4,
   "metadata": {},
   "outputs": [
    {
     "output_type": "execute_result",
     "data": {
      "text/plain": [
       "array([0, 2])"
      ]
     },
     "metadata": {},
     "execution_count": 4
    }
   ],
   "source": [
    "import numpy as np\n",
    "numbers = np.array([1, 3, 2, 4])\n",
    "\n",
    "n = 2\n",
    "\n",
    "indices = (numbers).argsort()[:n]\n",
    "indices"
   ]
  },
  {
   "cell_type": "code",
   "execution_count": 10,
   "metadata": {},
   "outputs": [
    {
     "output_type": "execute_result",
     "data": {
      "text/plain": [
       "array([20.49135169, 16.97357965, 20.78878752, 19.56611059, 22.18017054])"
      ]
     },
     "metadata": {},
     "execution_count": 10
    }
   ],
   "source": [
    "import json\n",
    "import os\n",
    "import copy\n",
    "import random \n",
    "import numpy as np\n",
    "from client import *\n",
    "import matplotlib.pyplot as plt\n",
    "import datetime\n",
    "Team_Key = \"VPN75t7UGO44XsrQlo9KuKkg8yRrqgSfyh13GITsQnyvLLyvV5\"\n",
    "population = []\n",
    "population.append(1)\n",
    "population.append(2)\n",
    "population.append(3)\n",
    "population.append(4)\n",
    "population.append(5)\n",
    "population[0] = [\n",
    "8.518968967670321e-11,\n",
    "-1.4598013657180049e-12,\n",
    "-2.253469494096645e-13,\n",
    "4.669102329265659e-11,\n",
    "-1.760039599035249e-10,\n",
    "-4.522727871519656e-16,\n",
    "5.016403929505348e-16,\n",
    "1.4567655348675182e-05,\n",
    "-1.2411478939419248e-06,\n",
    "-8.20773316341122e-09,\n",
    "5.275874470206454e-10\n",
    "]\n",
    "population[1] =[\n",
    "-3.548330684715398e-10,\n",
    "-1.3864142816932345e-12,\n",
    "-2.2080734329857315e-13,\n",
    "4.195989695157215e-11,\n",
    "-1.5415565681148144e-10,\n",
    "-4.873442356206607e-16,\n",
    "5.575771086185493e-16,\n",
    "1.5807498674479656e-05,\n",
    "-1.3678338314604715e-06,\n",
    "-9.533950786224575e-09,\n",
    "6.00148832658105e-10\n",
    "]\n",
    "population[2] =[\n",
    "-3.9061256266242053e-10,\n",
    "-1.3830014343733765e-12,\n",
    "-2.2114852659031476e-13,\n",
    "4.189557907817005e-11,\n",
    "-1.5283878126522143e-10,\n",
    "-6.954931679012648e-16,\n",
    "5.622041479863723e-16,\n",
    "1.5854233876390752e-05,\n",
    "-1.3844018251989352e-06,\n",
    "-9.632579312816445e-09,\n",
    "6.101442879070576e-10\n",
    "]\n",
    "population[3] = [\n",
    "-3.8812863947796153e-10,\n",
    "-1.3831091322310235e-12,\n",
    "-2.2048090910069807e-13,\n",
    "4.1719198288678494e-11,\n",
    "-1.5384177914050902e-10,\n",
    "-6.99142691882027e-16,\n",
    "5.629614751925862e-16,\n",
    "1.5917078898536535e-05,\n",
    "-1.3887356507162435e-06,\n",
    "-9.6406303746502e-09,\n",
    "6.133783187863804e-10\n",
    "]\n",
    "population[4] = [\n",
    "-3.8716853792591816e-10,\n",
    "-1.3833475790828312e-12,\n",
    "-2.2106471591146997e-13,\n",
    "4.189147585664675e-11,\n",
    "-1.532457443506613e-10,\n",
    "-6.962534519395929e-16,\n",
    "5.615141666499186e-16,\n",
    "1.5854431363640636e-05,\n",
    "-1.3830838652360704e-06,\n",
    "-9.696717243682733e-09,\n",
    "6.100017469793209e-10\n",
    "]\n",
    "fitness = []\n",
    "train_error = []\n",
    "valid_error = []\n",
    "for chromosomes in population:\n",
    "    train_err, valid_err = get_errors(Team_Key, list(chromosomes))\n",
    "    # train_err =   np.random.randint(1, 100)\n",
    "    # valid_err =  np.random.randint(1, 100)\n",
    "    train_error.append(train_err)\n",
    "    valid_error.append(valid_err)\n",
    "    fitness.append(-(train_err + valid_err))\n",
    "total = np.sum(fitness)\n",
    "percent = (fitness/total)*100\n",
    "\n",
    "percent"
   ]
  },
  {
   "cell_type": "code",
   "execution_count": null,
   "metadata": {},
   "outputs": [],
   "source": []
  }
 ],
 "metadata": {
  "kernelspec": {
   "name": "python3",
   "display_name": "Python 3.6.9 64-bit",
   "metadata": {
    "interpreter": {
     "hash": "31f2aee4e71d21fbe5cf8b01ff0e069b9275f58929596ceb00d14d90e3e16cd6"
    }
   }
  },
  "language_info": {
   "codemirror_mode": {
    "name": "ipython",
    "version": 3
   },
   "file_extension": ".py",
   "mimetype": "text/x-python",
   "name": "python",
   "nbconvert_exporter": "python",
   "pygments_lexer": "ipython3",
   "version": "3.6.9-final"
  }
 },
 "nbformat": 4,
 "nbformat_minor": 2
}