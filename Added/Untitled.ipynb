{
 "cells": [
  {
   "cell_type": "code",
   "execution_count": 68,
   "metadata": {},
   "outputs": [],
   "source": [
    "import json\n",
    "import os\n",
    "import copy\n",
    "import random \n",
    "import numpy as np\n",
    "from client import *\n",
    "import matplotlib.pyplot as plt\n",
    "import datetime"
   ]
  },
  {
   "cell_type": "code",
   "execution_count": 69,
   "metadata": {},
   "outputs": [],
   "source": [
    "Team_Key = \"VPN75t7UGO44XsrQlo9KuKkg8yRrqgSfyh13GITsQnyvLLyvV5\" \n",
    "Team_Name = \"Platypus_Perry\"\n",
    "max_limit = 10 \n",
    "min_limit = -10\n",
    "generations = 10\n",
    "array_len = 11\n",
    "population_size = 8\n",
    "chromosome_size = 11\n",
    "Mutation_Probability = 0.2         # probabilty that it will mutate\n",
    "Mutation_Difference_Scale = 1000   # adding noice on mutation to actual value ratio\n",
    "initial_array = [0.0, -1.45799022e-12, -2.28980078e-13,  4.62010753e-11, -1.75214813e-10, -1.83669770e-15,  8.52944060e-16,  2.29423303e-05, -2.04721003e-06, -1.59792834e-08,  9.98214034e-10]\n",
    "valid_err_best_weights = 0\n",
    "train_err_best_weights = 0\n",
    "best_weights_set = []\n",
    "fitness_best_weights = 0\n",
    "population = []\n",
    "best_valid_err_gen = []\n",
    "best_train_err_gen = []\n",
    "best_fit_gen = []"
   ]
  },
  {
   "cell_type": "code",
   "execution_count": 70,
   "metadata": {},
   "outputs": [],
   "source": [
    "def add_noise(arr):\n",
    "    for id, val in np.ndenumerate(arr):\n",
    "        Mutation_Probability = 1    \n",
    "#         Mutation_Probability = np.random.random()\n",
    "        Mutation_Difference_Scale = np.random.randint(80, 120)\n",
    "        chance = np.random.random()\n",
    "        if chance < Mutation_Probability:\n",
    "            range_var = val/Mutation_Difference_Scale\n",
    "            if val == 0:\n",
    "                range_var = np.mean(arr)/(Mutation_Difference_Scale*100)\n",
    "            arr[id] = arr[id] + np.random.uniform(-range_var,0)\n",
    "    return np.clip(arr, min_limit, max_limit)\n",
    "def add_noise_populate(arr):\n",
    "    for id, val in np.ndenumerate(arr):\n",
    "        Mutation_Probability = 1      \n",
    "#         Mutation_Probability = np.random.random()\n",
    "        Mutation_Difference_Scale = np.random.randint(8, 10)\n",
    "        chance = np.random.random()\n",
    "        if chance < Mutation_Probability:\n",
    "            range_var = val/Mutation_Difference_Scale\n",
    "            if val == 0:\n",
    "                range_var = np.mean(arr)/(Mutation_Difference_Scale*100)\n",
    "            arr[id] = arr[id] + np.random.uniform(-range_var,0)\n",
    "    return np.clip(arr, min_limit, max_limit)\n",
    "def populate(arr):\n",
    "    arra = []\n",
    "    for i in range(0,population_size):\n",
    "        arra.append(arr)\n",
    "    arra = np.array(arra, dtype=np.double)\n",
    "    arra = add_noise_populate(arra)\n",
    "    arra[0] = arr\n",
    "    return arra\n",
    "def Roulette_Wheel_Selection(arr ,fitness_sum):\n",
    "    random_nu = random.uniform(0,fitness_sum)\n",
    "    for id, val in np.ndenumerate(arr):\n",
    "        if (val > random_nu):\n",
    "            return id\n",
    "    return len(arr) - 1"
   ]
  },
  {
   "cell_type": "code",
   "execution_count": 71,
   "metadata": {},
   "outputs": [],
   "source": [
    "def get_gen(name_file, i , population):\n",
    "    j = i\n",
    "    selected_population = []\n",
    "    crossovered_population = []\n",
    "    mutated_population = []\n",
    "    # global population\n",
    "    global fitness_best_weights\n",
    "    global valid_err_best_weights\n",
    "    global train_err_best_weights\n",
    "\n",
    "    global best_fit_gen\n",
    "    global best_train_err_gen\n",
    "    global best_valid_err_gen\n",
    "    #finding errors\n",
    "    fitness = []\n",
    "    train_error = []\n",
    "    valid_error = []\n",
    "    for chromosomes in population:\n",
    "        train_err, valid_err = get_errors(Team_Key, list(chromosomes))\n",
    "        # train_err = 1*j\n",
    "        # valid_err = 1*j\n",
    "        train_error.append(train_err)\n",
    "        valid_error.append(valid_err)\n",
    "        fitness.append(-(train_err + valid_err))\n",
    "\n",
    "    #updating err values\n",
    "    best_fit_id = np.argmax(fitness)\n",
    "    if ( (fitness_best_weights == 0) or (fitness[best_fit_id] > fitness_best_weights)):\n",
    "        fitness_best_weights = fitness[best_fit_id]\n",
    "        valid_err_best_weights = valid_error[best_fit_id]\n",
    "        train_err_best_weights = train_error[best_fit_id]\n",
    "        best_weights_set[:] = population[best_fit_id]\n",
    "    \n",
    "    best_fit_gen.append((-1)*fitness[best_fit_id])\n",
    "    best_valid_err_gen.append(valid_error[best_fit_id])\n",
    "    best_train_err_gen.append(train_error[best_fit_id])\n",
    "\n",
    "    scaled_fitness = (fitness - np.min(fitness)) / np.ptp(fitness) #fitness is scaled from 0 to 1\n",
    "    partial_sum = []\n",
    "    sum_fitness = np.sum(scaled_fitness)\n",
    "    part = 0.0\n",
    "    for val in scaled_fitness:\n",
    "        part = part + val\n",
    "        partial_sum.append(part)\n",
    "\n",
    "    crossover =[]\n",
    "    for i in range(0, population_size//2):\n",
    "        # selection\n",
    "        selected_f = population[Roulette_Wheel_Selection(partial_sum ,sum_fitness)]\n",
    "        selected_s = population[Roulette_Wheel_Selection(partial_sum ,sum_fitness)]\n",
    "        selected_population.append(selected_f)\n",
    "        selected_population.append(selected_s)\n",
    "\n",
    "        # crossover \n",
    "        crossovered_f = np.copy(selected_f)\n",
    "        crossovered_s = np.copy(selected_s)\n",
    "        crossover_point = np.random.randint(4,9)\n",
    "        crossovered_f[0:crossover_point] = selected_s[0:crossover_point]\n",
    "        crossovered_s[0:crossover_point] = selected_f[0:crossover_point]\n",
    "        crossovered_population.append(crossovered_f)\n",
    "        crossovered_population.append(crossovered_s)\n",
    "        crossover.append(crossovered_f)\n",
    "        crossover.append(crossovered_s)\n",
    "    \n",
    "    #mutation\n",
    "    crossover = np.array(crossover, dtype=np.double)\n",
    "    population = add_noise(crossover)\n",
    "    mutated_population = population\n",
    "\n",
    "    #creating generation files\n",
    "    file_name = str(name_file) + \"/\" + \"generations_\" + str(j+1) + \".txt\"\n",
    "    \n",
    "    selected_population = np.array(selected_population)\n",
    "    crossovered_population = np.array(crossovered_population)\n",
    "    mutated_population = np.array(mutated_population)\n",
    "    with open(file_name, 'w') as write_file:\n",
    "        json.dump(selected_population.tolist(), write_file)\n",
    "        write_file.write('\\n' + '\\n')\n",
    "        json.dump(crossovered_population.tolist(), write_file)\n",
    "        write_file.write('\\n' + '\\n')\n",
    "        json.dump(mutated_population.tolist(), write_file)\n",
    "    return population\n"
   ]
  },
  {
   "cell_type": "code",
   "execution_count": 72,
   "metadata": {},
   "outputs": [],
   "source": [
    "name_file = \"generations96\"\n",
    "if (os.path.isdir(name_file) != 1):\n",
    "    os.mkdir(name_file)\n",
    "population = populate(initial_array)\n",
    "population = np.array(population , dtype=np.double)\n",
    "\n",
    "for i in range(0,generations):\n",
    "    population = get_gen(name_file, i , population)\n",
    "    \n",
    "print(\"best values >>>>>>>>\",name_file,datetime.datetime.now(),file=open(\"tt11.txt\" , \"a\"))\n",
    "print(fitness_best_weights,\"\\n\", valid_err_best_weights,\"\\n\", train_err_best_weights,\"\\n\", best_weights_set,file=open(\"tt11.txt\" , \"a\"))\n",
    "print(\"=================================================================================\\n\\n\\n\\n\",file=open(\"tt11.txt\" , \"a\"))\n"
   ]
  },
  {
   "cell_type": "code",
   "execution_count": 85,
   "metadata": {},
   "outputs": [
    {
     "data": {
      "text/plain": [
       "'successfully submitted'"
      ]
     },
     "execution_count": 85,
     "metadata": {},
     "output_type": "execute_result"
    }
   ],
   "source": [
    "# vvtt = [-7.796984517402969e-10, -1.2759114692062566e-12, -2.0269879488472377e-13, 4.2736379058925144e-11, -1.593031118007237e-10, -1.619038840306331e-15, 7.968442767123957e-16, 2.10026184658057e-05, -1.8134724859015964e-06, -1.4393999162387242e-08, 8.689798005351976e-10]\n",
    "# vvtt = [-6.434083109283897e-11, -1.3669359761012536e-12, -2.1590401643672617e-13, 4.427649708786989e-11, -1.6420867741237895e-10, -1.5725852375203345e-15, 7.76863379904347e-16, 2.107079773999939e-05, -1.8064822105179495e-06, -1.3776359286132386e-08, 8.502468033116452e-10]\n",
    "# 82 gen 93 #vvtt = [-3.513750038616115e-10, -1.3694949660585513e-12, -2.1482935428646966e-13, 3.981521817219782e-11, -1.4849202040807466e-10, -1.5908111239564602e-15, 8.112762503570832e-16, 2.1855115684180283e-05, -1.778169321254219e-06, -1.4730482632173212e-08, 8.511636439832248e-10]\n",
    "# 81 gen 95 #vvtt =  [-9.407524269095776e-11, -1.2974419082126767e-12, -2.0517162848016192e-13, 4.034622612570312e-11, -1.627829332837668e-10, -1.6642560731446588e-15, 7.274673843866949e-16, 2.032836158005331e-05, -1.7737258847773792e-06, -1.4002088319780443e-08, 8.512215607016028e-10]\n",
    "# 74 gen 90* vvtt = [-8.308778094038001e-11, -1.3872235754127287e-12, -2.15310315885738e-13, 4.4467243133621923e-11, -1.6900416346114005e-10, -1.717435207886795e-15, 7.435287413466738e-16, 2.1838749556026805e-05, -1.9305857186039466e-06, -1.375430769308673e-08, 9.006779669112845e-10]\n",
    "vvtt = []\n",
    "submit(Team_Key,list(vvtt))"
   ]
  },
  {
   "cell_type": "code",
   "execution_count": 74,
   "metadata": {},
   "outputs": [
    {
     "name": "stdout",
     "output_type": "stream",
     "text": [
      "[3.12983831e+11 3.27310913e+11 2.23521427e+11 2.17700538e+11\n",
      " 2.43029932e+11 2.19200031e+11 2.17689926e+11 2.19653459e+11\n",
      " 2.16709415e+11 2.17917228e+11]\n",
      "[1.45402454e+11 1.35441088e+11 1.68311375e+11 1.24625350e+11\n",
      " 1.16224589e+11 1.32602962e+11 1.35383499e+11 1.45443202e+11\n",
      " 1.38672880e+11 1.18130242e+11]\n",
      "[1.67581377e+11 1.91869824e+11 5.52100515e+10 9.30751883e+10\n",
      " 1.26805343e+11 8.65970688e+10 8.23064268e+10 7.42102565e+10\n",
      " 7.80365348e+10 9.97869859e+10]\n"
     ]
    },
    {
     "data": {
      "image/png": "[encoded data removed]",
      "text/plain": [
       "<Figure size 432x288 with 1 Axes>"
      ]
     },
     "metadata": {
      "needs_background": "light"
     },
     "output_type": "display_data"
    }
   ],
   "source": [
    "best_fit_gen = np.array(best_fit_gen, dtype = np.double)\n",
    "best_train_err_gen = np.array(best_train_err_gen, dtype = np.double)\n",
    "best_valid_err_gen = np.array(best_valid_err_gen, dtype = np.double)\n",
    "print(best_fit_gen)\n",
    "print(best_valid_err_gen)\n",
    "print(best_train_err_gen)\n",
    "plt.plot(best_fit_gen , color = \"red\")\n",
    "plt.plot(best_train_err_gen, color =\"blue\" )\n",
    "plt.plot(best_valid_err_gen , color = \"green\")\n",
    "plt.legend([\"Fitness\", \"Train_err\", \"Valid_err\"])\n",
    "plt.show()"
   ]
  },
  {
   "cell_type": "code",
   "execution_count": 7,
   "metadata": {},
   "outputs": [
    {
     "name": "stdout",
     "output_type": "stream",
     "text": [
      "1\n",
      "2\n",
      "4\n",
      "5\n",
      "8\n",
      "9\n"
     ]
    }
   ],
   "source": [
    "import numpy as np\n",
    "initial_array = [0.0, -1.45799022e-12, -2.28980078e-13,  4.62010753e-11, -1.75214813e-10, -1.83669770e-15,  8.52944060e-16,  2.29423303e-05, -2.04721003e-06, -1.59792834e-08,  9.98214034e-10]\n",
    "check_arr =    [5.676391085132782e-10, -1.3857292723118332e-12, -2.2653919384209594e-13, 4.634432566014288e-11, -1.8256651150328223e-10, -1.8988854373633673e-15, 7.962947915504994e-16, 2.351580929846117e-05, -2.0282321098290316e-06, -1.56204124253323e-08, 9.43748938900726e-10]\n",
    "initial_array = np.array(initial_array, dtype = np.double)\n",
    "check_arr = np.array(check_arr , dtype = np.double)\n",
    "max_val = initial_array + initial_array/10\n",
    "max_val = np.clip(max_val,-10,+10)\n",
    "min_val = initial_array - initial_array/10\n",
    "min_val = np.clip(min_val,-10,+10)\n",
    "max_val[0] = initial_array[0] + np.mean(initial_array)/1000\n",
    "min_val[0] = initial_array[0] - np.mean(initial_array)/1000\n",
    "for i in range(0,11):\n",
    "    if ( check_arr[i] >max_val[i] or check_arr [i]<min_val[i]):\n",
    "        print(i)"
   ]
  },
  {
   "cell_type": "code",
   "execution_count": 32,
   "metadata": {},
   "outputs": [
    {
     "data": {
      "text/plain": [
       "[]"
      ]
     },
     "execution_count": 32,
     "metadata": {},
     "output_type": "execute_result"
    }
   ],
   "source": [
    "best_weights_set"
   ]
  },
  {
   "cell_type": "code",
   "execution_count": 10,
   "metadata": {},
   "outputs": [],
   "source": [
    "print(fitness_best_weights,\"\\n\", valid_err_best_weights,\"\\n\", train_err_best_weights,\"\\n\", best_weights_set,file=open(\"tt11.txt\" , \"a\"))\n",
    "print(\"=================================================================================\\n\\n\\n\\n\",file=open(\"tt11.txt\" , \"a\"))"
   ]
  },
  {
   "cell_type": "code",
   "execution_count": null,
   "metadata": {},
   "outputs": [],
   "source": []
  }
 ],
 "metadata": {
  "kernelspec": {
   "display_name": "Python 3",
   "language": "python",
   "name": "python3"
  },
  "language_info": {
   "codemirror_mode": {
    "name": "ipython",
    "version": 3
   },
   "file_extension": ".py",
   "mimetype": "text/x-python",
   "name": "python",
   "nbconvert_exporter": "python",
   "pygments_lexer": "ipython3",
   "version": "3.8.5"
  }
 },
 "nbformat": 4,
 "nbformat_minor": 2
}
