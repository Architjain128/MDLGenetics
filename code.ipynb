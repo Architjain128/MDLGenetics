{
 "cells": [
  {
   "cell_type": "code",
   "execution_count": 9,
   "metadata": {},
   "outputs": [],
   "source": [
    "import random \n",
    "import copy\n",
    "import numpy as np\n",
    "from client import *\n",
    "import matplotlib.pyplot as plt\n"
   ]
  },
  {
   "cell_type": "code",
   "execution_count": 10,
   "metadata": {},
   "outputs": [],
   "source": [
    "Team_Key = \"VPN75t7UGO44XsrQlo9KuKkg8yRrqgSfyh13GITsQnyvLLyvV5\" \n",
    "Team_Name = \"Platypus_Perry\"\n",
    "Max_Len = 10 \n",
    "Min_Len = -10\n",
    "Generations = 10\n",
    "Array_Length = 11\n",
    "Population_Size = 8\n",
    "Mutation_Probability = 0.2         # probabilty that it will mutate\n",
    "Mutation_Difference_Scale = 1000  # adding noice on mutation to actual value ratio\n",
    "Initial_Array = [0.0, -1.45799022e-12, -2.28980078e-13,  4.62010753e-11, -1.75214813e-10, -1.83669770e-15,  8.52944060e-16,  2.29423303e-05, -2.04721003e-06, -1.59792834e-08,  9.98214034e-10]\n"
   ]
  },
  {
   "cell_type": "code",
   "execution_count": 11,
   "metadata": {},
   "outputs": [],
   "source": [
    "class Platypus:\n",
    "    def __init__(self,arr):\n",
    "        self.population = self.populate(arr)\n",
    "        self.population[0] = np.array(arr)\n",
    "        self.avg_fitness = [] \n",
    "        self.weight_fitness_map = []\n",
    "        self.max_fitness_across_generations = None\n",
    "        self.best_chromosome_across_generations = None\n",
    "        self.train_for_best_chromosome = None\n",
    "        self.valid_for_best_chromosome = None\n",
    "        self.print_population()\n",
    "    \n",
    "    def populate(self,arr):\n",
    "        temp = [list(arr) for i in range(Population_Size)]\n",
    "        temp = np.array(temp, dtype=np.double)\n",
    "        temp =  self.mutate(temp,0)\n",
    "        temp[0] = arr\n",
    "        return temp\n",
    "\n",
    "    def print_population(self):\n",
    "        for x in self.population:\n",
    "            print(x,file=open(\"output.txt\", \"a\"))\n",
    "\n",
    "    def add_uniform_noise(self,arr):\n",
    "        for idx, val in np.ndenumerate(arr):\n",
    "            if np.random.random() < Mutation_Probability:\n",
    "                range_lim = val/Mutation_Difference_Scale\n",
    "                noise = np.random.uniform(-range_lim,range_lim)\n",
    "                arr[idx] = arr[idx] + noise\n",
    "        return np.clip(arr, Min_Len, Max_Len)\n",
    "    \n",
    "    def get_fitness(self):\n",
    "        fitness = []\n",
    "        train_errors = []\n",
    "        valid_errors = []\n",
    "        weight_fitness = []\n",
    "        for chrom in self.population:\n",
    "            train_err, valid_err = get_errors(Team_Key, list(chrom))\n",
    "            fit = -(train_err + valid_err)\n",
    "            fitness.append(fit)\n",
    "            print(chrom)\n",
    "            print(fit)\n",
    "            train_errors.append(train_err)\n",
    "            valid_errors.append(valid_err)\n",
    "            weight_fitness.append((chrom,fit))\n",
    "        fitness = np.array(fitness, dtype=np.double)\n",
    "        self.weight_fitness_map = weight_fitness\n",
    "        return fitness, train_errors, valid_errors\n",
    "\n",
    "    def add_gauss_noise(self,arr):\n",
    "        means = np.mean(arr, axis=0) \n",
    "        for idx, val in np.ndenumerate(arr):\n",
    "            if np.random.random() < Mutation_Probability:\n",
    "               noise = np.random.normal(loc=means[idx[1]], scale=abs(means[idx[1]]/1000))\n",
    "               arr[idx] = arr +  noise\n",
    "        return np.clip(arr, Min_Len, Max_Len)\n",
    "    \n",
    "    def mutate(self, arr, flag=0):\n",
    "        temp_pop = copy.deepcopy(arr)\n",
    "        if(flag < 0):\n",
    "            temp = self.add_gauss_noise(arr)\n",
    "        if(flag >= 0):\n",
    "            temp = self.add_uniform_noise(arr)            \n",
    "        return temp\n",
    "\n",
    "    def gauss_index(thresholds):\n",
    "        draw = np.random.random()\n",
    "        for i in range(len(thresholds)):\n",
    "            if draw < thresholds[i]:\n",
    "                return i\n",
    "        return len(thresholds) - 1 \n",
    "    \n",
    "    def next_gen(self):\n",
    "        fitness, train_errors, valid_errors = self.get_fitness()\n",
    "        normalized_fitness = (fitness - np.min(fitness)) / np.ptp(fitness) \n",
    "        self.avg_fitness.append(np.mean(fitness))\n",
    "        self.update_best(fitness, train_errors, valid_errors)\n",
    "        thresholds = []\n",
    "        thresh = 0.0\n",
    "        fitness_sum = np.sum(normalized_fitness)\n",
    "        for val in normalized_fitness:\n",
    "            thresh = thresh + (val/fitness_sum)\n",
    "            thresholds.append(thresh)\n",
    "        bette = []\n",
    "        for i in range(int(self.POPULATION_SIZE/2)):\n",
    "            motera = self.population[gauss_index(thresholds)]\n",
    "            modiji = self.population[gauss_index(thresholds)]\n",
    "            adani, reliance = self.crossover(motera, mogiji)\n",
    "            bette.append(adani)\n",
    "            bette.append(reliance)\n",
    "         bette = np.array(bette, dtype=np.double)\n",
    "         self.population = self.mutate(bette)\n"
   ]
  },
  {
   "cell_type": "code",
   "execution_count": 12,
   "metadata": {},
   "outputs": [],
   "source": [
    "platypus = Platypus(Initial_Array)"
   ]
  },
  {
   "cell_type": "code",
   "execution_count": null,
   "metadata": {},
   "outputs": [],
   "source": [
    " for i in range(Generations):\n",
    "    platypus.next_gen()\n"
   ]
  }
 ],
 "metadata": {
  "kernelspec": {
   "name": "python3",
   "display_name": "Python 3.8.5 64-bit",
   "metadata": {
    "interpreter": {
     "hash": "916dbcbb3f70747c44a77c7bcd40155683ae19c65e1c03b4aa3499c5328201f1"
    }
   }
  },
  "language_info": {
   "codemirror_mode": {
    "name": "ipython",
    "version": 3
   },
   "file_extension": ".py",
   "mimetype": "text/x-python",
   "name": "python",
   "nbconvert_exporter": "python",
   "pygments_lexer": "ipython3",
   "version": "3.8.5-final"
  }
 },
 "nbformat": 4,
 "nbformat_minor": 2
}