{
 "cells": [
  {
   "cell_type": "code",
   "execution_count": 45,
   "metadata": {},
   "outputs": [],
   "source": [
    "import random \n",
    "import copy\n",
    "import numpy as np\n",
    "from client import *\n",
    "import matplotlib.pyplot as plt\n"
   ]
  },
  {
   "cell_type": "code",
   "execution_count": 46,
   "metadata": {},
   "outputs": [],
   "source": [
    "Team_Key = \"VPN75t7UGO44XsrQlo9KuKkg8yRrqgSfyh13GITsQnyvLLyvV5\" \n",
    "Team_Name = \"Platypus_Perry\"\n",
    "Max_Len = 10 \n",
    "Min_Len = -10\n",
    "Generations = 10\n",
    "Array_Length = 11\n",
    "Population_Size = 8\n",
    "Mutation_Probability = 0.2         # probabilty that it will mutate\n",
    "Mutation_Difference_Scale = 1000  # adding noice on mutation to actual value ratio\n",
    "Initial_Array = [0.0, -1.45799022e-12, -2.28980078e-13,  4.62010753e-11, -1.75214813e-10, -1.83669770e-15,  8.52944060e-16,  2.29423303e-05, -2.04721003e-06, -1.59792834e-08,  9.98214034e-10]\n"
   ]
  },
  {
   "cell_type": "code",
   "execution_count": 47,
   "metadata": {},
   "outputs": [],
   "source": [
    "class Platypus:\n",
    "    def __init__(self,arr):\n",
    "        self.population = self.populate(arr)\n",
    "        self.population[0] = np.array(arr)\n",
    "        self.print_population()\n",
    "    \n",
    "    def populate(self,arr):\n",
    "        temp = [list(arr) for i in range(Population_Size)]\n",
    "        temp = np.array(temp, dtype=np.double)\n",
    "        temp =  self.mutate(temp,0)\n",
    "        temp[0] = arr\n",
    "        return temp\n",
    "\n",
    "    def print_population(self):\n",
    "        for x in self.population:\n",
    "            print(x,file=open(\"output.txt\", \"a\"))\n",
    "\n",
    "    def add_uniform_noise(self,arr):\n",
    "        for idx, val in np.ndenumerate(arr):\n",
    "            if np.random.random() < Mutation_Probability:\n",
    "                range_lim = val/Mutation_Difference_Scale\n",
    "                noise = np.random.uniform(-range_lim,range_lim)\n",
    "                arr[idx] = arr[idx] + noise\n",
    "                print(noise)\n",
    "        return np.clip(arr, Min_Len, Max_Len)\n",
    "    \n",
    "    def add_gauss_noise(self,arr):\n",
    "        means = np.mean(arr, axis=0) \n",
    "        for idx, val in np.ndenumerate(arr):\n",
    "            if np.random.random() < Mutation_Probability:\n",
    "               noise = np.random.normal(loc=means[idx[1]], scale=abs(means[idx[1]]/1000))\n",
    "               arr[idx] = arr +  noise\n",
    "        return np.clip(arr, Min_Len, Max_Len)\n",
    "    \n",
    "    def mutate(self, arr, flag):\n",
    "        temp_pop = copy.deepcopy(arr)\n",
    "        if(flag <= 0):\n",
    "            temp = self.add_gauss_noise(arr)\n",
    "        if(flag >= 0):\n",
    "            temp = self.add_uniform_noise(arr)            \n",
    "        return temp\n"
   ]
  },
  {
   "cell_type": "code",
   "execution_count": 48,
   "metadata": {},
   "outputs": [
    {
     "output_type": "stream",
     "name": "stdout",
     "text": [
      "0.0\n8.33311141849296e-16\n7.733529777442745e-17\n-4.474981394584004e-14\n1.7462024258215056e-13\n-9.024138600315526e-19\n-7.707721852554109e-19\n-1.425073789406408e-08\n1.6052756676791115e-09\n-3.1467198416185683e-12\n-6.152935195141553e-13\n0.0\n-1.4545257811715576e-15\n-5.665490289988375e-17\n-2.477606880158372e-14\n-8.797378964566462e-14\n-1.5622248089259139e-18\n-8.017516832249043e-19\n1.4809546499053964e-08\n1.4475861132294366e-09\n1.545266389960324e-11\n-8.988645509481863e-13\n0.0\n-1.3169743195214624e-15\n-3.038610031757913e-18\n-4.207639412022481e-14\n1.5050417291527645e-13\n1.757688245065388e-18\n-6.1808113062717785e-21\n-1.7911660319401023e-08\n6.770666646732301e-10\n-1.255224089608579e-11\n3.7465985974962574e-13\n0.0\n1.426600208457088e-15\n-1.5007126788964666e-16\n3.8143715872332255e-14\n1.5248365963668716e-14\n2.1524100390366955e-19\n-7.617065540814256e-19\n-2.1217299593549758e-08\n7.297371637616172e-10\n-7.396843338164703e-12\n-8.138060198044177e-13\n0.0\n-3.044341394715383e-17\n-1.6598450687164558e-16\n1.404227205241143e-15\n-4.2374966064994896e-14\n-1.6800879602774797e-18\n-5.343009098196978e-19\n8.180214925419216e-09\n-1.5929666677213866e-09\n-6.242891317060262e-12\n-6.452664062294573e-13\n0.0\n4.4232542892288623e-16\n1.5183319786421532e-16\n6.593386560894091e-15\n-6.414087020557006e-15\n-6.067664963117778e-19\n-7.939661625860994e-19\n1.3923799606802729e-08\n-8.932458601317833e-10\n3.433746392365938e-12\n-6.808466879185604e-13\n0.0\n-4.982451247844276e-16\n-5.1884883723211245e-18\n-3.6688986780433844e-14\n6.885826761557731e-14\n6.714174523389353e-19\n-4.7460936127609e-19\n-6.736061029957227e-09\n2.511233267744673e-10\n5.586044826391512e-12\n6.253367417292454e-13\n0.0\n8.450836381247913e-16\n-1.0880430631871765e-16\n7.648264791902274e-15\n1.2243226133496327e-13\n1.2281610779885832e-18\n2.2276258767905387e-19\n6.72347926236429e-09\n6.396078716015293e-10\n3.4213215999140297e-12\n3.137913109876234e-13\n"
     ]
    }
   ],
   "source": [
    "platypus = Platypus(Initial_Array)"
   ]
  },
  {
   "cell_type": "code",
   "execution_count": null,
   "metadata": {},
   "outputs": [],
   "source": []
  }
 ],
 "metadata": {
  "kernelspec": {
   "name": "python3",
   "display_name": "Python 3.8.5 64-bit",
   "metadata": {
    "interpreter": {
     "hash": "916dbcbb3f70747c44a77c7bcd40155683ae19c65e1c03b4aa3499c5328201f1"
    }
   }
  },
  "language_info": {
   "codemirror_mode": {
    "name": "ipython",
    "version": 3
   },
   "file_extension": ".py",
   "mimetype": "text/x-python",
   "name": "python",
   "nbconvert_exporter": "python",
   "pygments_lexer": "ipython3",
   "version": "3.8.5-final"
  }
 },
 "nbformat": 4,
 "nbformat_minor": 2
}