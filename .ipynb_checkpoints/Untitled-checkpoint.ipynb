{
 "cells": [
  {
   "cell_type": "code",
   "execution_count": 19,
   "metadata": {},
   "outputs": [],
   "source": [
    "import json\n",
    "import os\n",
    "import copy\n",
    "import random \n",
    "import numpy as np\n",
    "import datetime\n",
    "from client import *\n",
    "import matplotlib.pyplot as plt"
   ]
  },
  {
   "cell_type": "code",
   "execution_count": 20,
   "metadata": {},
   "outputs": [],
   "source": [
    "Team_Key = \"VPN75t7UGO44XsrQlo9KuKkg8yRrqgSfyh13GITsQnyvLLyvV5\" \n",
    "Team_Name = \"Platypus_Perry\"\n",
    "max_limit = 10 \n",
    "min_limit = -10\n",
    "generations = 10\n",
    "array_len = 11\n",
    "population_size = 20\n",
    "chromosome_size = 11\n",
    "Mutation_Probability = 0.2         # probabilty that it will mutate\n",
    "Mutation_Difference_Scale = 1000   # adding noice on mutation to actual value ratio\n",
    "initial_array = [0.0, -1.45799022e-12, -2.28980078e-13,  4.62010753e-11, -1.75214813e-10, -1.83669770e-15,  8.52944060e-16,  2.29423303e-05, -2.04721003e-06, -1.59792834e-08,  9.98214034e-10]\n",
    "valid_err_best_weights = 0\n",
    "train_err_best_weights = 0\n",
    "best_weights_set = []\n",
    "fitness_best_weights = 0\n",
    "population = []"
   ]
  },
  {
   "cell_type": "code",
   "execution_count": 21,
   "metadata": {},
   "outputs": [],
   "source": [
    "def add_noise(arr):\n",
    "    for id, val in np.ndenumerate(arr):\n",
    "        Mutation_Probability = 1    \n",
    "#         Mutation_Probability = np.random.random()\n",
    "        Mutation_Difference_Scale = np.random.randint(10, 20)\n",
    "        chance = np.random.random()\n",
    "        if chance < Mutation_Probability:\n",
    "            range_var = val/Mutation_Difference_Scale\n",
    "            if val == 0:\n",
    "                range_var = np.mean(arr)/(Mutation_Difference_Scale*1000)\n",
    "            arr[id] = arr[id] + np.random.uniform(-range_var,range_var)\n",
    "    return np.clip(arr, min_limit, max_limit)"
   ]
  },
  {
   "cell_type": "code",
   "execution_count": 22,
   "metadata": {},
   "outputs": [],
   "source": [
    "def add_noise_populate(arr):\n",
    "    for id, val in np.ndenumerate(arr):\n",
    "        Mutation_Probability = 1      \n",
    "#         Mutation_Probability = np.random.random()\n",
    "        Mutation_Difference_Scale = np.random.randint(1, 10)\n",
    "        chance = np.random.random()\n",
    "        if chance < Mutation_Probability:\n",
    "            range_var = val/Mutation_Difference_Scale\n",
    "            if val == 0:\n",
    "                range_var = np.mean(arr)/(Mutation_Difference_Scale*10)\n",
    "            arr[id] = arr[id] + np.random.uniform(-range_var,range_var)\n",
    "    return np.clip(arr, min_limit, max_limit)"
   ]
  },
  {
   "cell_type": "code",
   "execution_count": 23,
   "metadata": {},
   "outputs": [],
   "source": [
    "def populate(arr):\n",
    "    arra = []\n",
    "    for i in range(0,population_size):\n",
    "        arra.append(arr)\n",
    "    arra = np.array(arra, dtype=np.double)\n",
    "    arra = add_noise_populate(arra)\n",
    "    arra[0] = arr\n",
    "    return arra"
   ]
  },
  {
   "cell_type": "code",
   "execution_count": 24,
   "metadata": {},
   "outputs": [],
   "source": [
    "def Roulette_Wheel_Selection(arr ,fitness_sum):\n",
    "    random_nu = random.uniform(0,fitness_sum)\n",
    "    for id, val in np.ndenumerate(arr):\n",
    "        if (val > random_nu):\n",
    "            return id\n",
    "    return len(arr) - 1 "
   ]
  },
  {
   "cell_type": "code",
   "execution_count": 25,
   "metadata": {},
   "outputs": [],
   "source": [
    "def get_gen(name_file, i , population):\n",
    "    j = i\n",
    "    selected_population = []\n",
    "    crossovered_population = []\n",
    "    mutated_population = []\n",
    "    # global population\n",
    "    global fitness_best_weights\n",
    "    global valid_err_best_weights\n",
    "    global train_err_best_weights\n",
    "    #finding errors\n",
    "    fitness = []\n",
    "    train_error = []\n",
    "    valid_error = []\n",
    "    for chromosomes in population:\n",
    "        train_err, valid_err = get_errors(Team_Key, list(chromosomes))\n",
    "#         train_err = 1*j\n",
    "#         valid_err = 1*j\n",
    "        train_error.append(train_err)\n",
    "        valid_error.append(valid_err)\n",
    "        fitness.append(-(train_err + valid_err))\n",
    "\n",
    "    #updating err values\n",
    "    best_fit_id = np.argmax(fitness)\n",
    "    if ( (fitness_best_weights == 0) or (fitness[best_fit_id] > fitness_best_weights)):\n",
    "        fitness_best_weights = fitness[best_fit_id]\n",
    "        valid_err_best_weights = valid_error[best_fit_id]\n",
    "        train_err_best_weights = train_error[best_fit_id]\n",
    "        best_weights_set[:] = population[best_fit_id]\n",
    "\n",
    "    scaled_fitness = (fitness - np.min(fitness)) / np.ptp(fitness) #fitness is scaled from 0 to 1\n",
    "    partial_sum = []\n",
    "    sum_fitness = np.sum(scaled_fitness)\n",
    "    part = 0.0\n",
    "    for val in scaled_fitness:\n",
    "        part = part + val\n",
    "        partial_sum.append(part)\n",
    "\n",
    "    crossover =[]\n",
    "    for i in range(0, population_size//2):\n",
    "        # selection\n",
    "        selected_f = population[Roulette_Wheel_Selection(partial_sum ,sum_fitness)]\n",
    "        selected_s = population[Roulette_Wheel_Selection(partial_sum ,sum_fitness)]\n",
    "        selected_population.append(selected_f)\n",
    "        selected_population.append(selected_s)\n",
    "\n",
    "        # crossover \n",
    "        crossovered_f = np.copy(selected_f)\n",
    "        crossovered_s = np.copy(selected_s)\n",
    "        crossover_point = np.random.randint(chromosome_size)\n",
    "        crossovered_f[0:crossover_point] = selected_f[0:crossover_point]\n",
    "        crossovered_s[0:crossover_point] = selected_s[0:crossover_point]\n",
    "        crossovered_population.append(crossovered_f)\n",
    "        crossovered_population.append(crossovered_s)\n",
    "        crossover.append(crossovered_f)\n",
    "        crossover.append(crossovered_s)\n",
    "    \n",
    "    #mutation\n",
    "    crossover = np.array(crossover, dtype=np.double)\n",
    "    population = add_noise(crossover)\n",
    "    mutated_population = population\n",
    "\n",
    "    #creating generation files\n",
    "    file_name = str(name_file) + \"/\" + \"generations_\" + str(j+1) + \".txt\"\n",
    "    \n",
    "    selected_population = np.array(selected_population)\n",
    "    crossovered_population = np.array(crossovered_population)\n",
    "    mutated_population = np.array(mutated_population)\n",
    "    with open(file_name, 'w') as write_file:\n",
    "        json.dump(selected_population.tolist(), write_file)\n",
    "        write_file.write('\\n' + '\\n')\n",
    "        json.dump(crossovered_population.tolist(), write_file)\n",
    "        write_file.write('\\n' + '\\n')\n",
    "        json.dump(mutated_population.tolist(), write_file)\n",
    "    return population\n"
   ]
  },
  {
   "cell_type": "code",
   "execution_count": 26,
   "metadata": {},
   "outputs": [],
   "source": [
    "name_file = \"generations36\"\n",
    "if (os.path.isdir(name_file) != 1):\n",
    "    os.mkdir(name_file)\n",
    "population = populate(initial_array)\n",
    "population = np.array(population , dtype=np.double)\n",
    "\n",
    "for i in range(0,generations):\n",
    "    population = get_gen(name_file, i , population)\n",
    "    \n",
    "print(\"best values >>>>>>>>\",name_file,datetime.datetime.now(),file=open(\"tt.txt\" , \"a\"))\n",
    "print(fitness_best_weights,\"\\n\", valid_err_best_weights,\"\\n\", train_err_best_weights,\"\\n\", best_weights_set,file=open(\"tt.txt\" , \"a\"))\n",
    "print(\"=================================================================================\\n\\n\\n\\n\",file=open(\"tt.txt\" , \"a\"))"
   ]
  },
  {
   "cell_type": "code",
   "execution_count": 18,
   "metadata": {},
   "outputs": [
    {
     "data": {
      "text/plain": [
       "'successfully submitted'"
      ]
     },
     "execution_count": 18,
     "metadata": {},
     "output_type": "execute_result"
    }
   ],
   "source": [
    "# vvtt = [6.82771571130987e-12, -1.463111266208958e-12, -2.2312673046136084e-13, 4.689344409709436e-11, -1.772373345073601e-10, -1.8326202587918285e-15, 8.538727676159435e-16, 2.3292709084409746e-05, -2.0030224349233625e-06, -1.6266609004939023e-08, 9.70209551725842e-10]\n",
    "# vvtt = [-2.761407331734281e-09, -1.4440283066629393e-12, -2.2502135672064223e-13, 4.6752536033924406e-11, -1.782808368859751e-10, -1.813716847936583e-15, 8.537800303264092e-16, 2.267852459121895e-05, -1.9745599208095136e-06, -1.548798393742991e-08, 9.48432109882286e-10]\n",
    "vvtt =  [-1.2168536961716294e-08, -1.279649908131135e-12, -3.53224403024596e-13, 3.3524804447875765e-11, -1.67025314186885e-10, -1.7366993644687599e-15, 9.293340875354588e-16, 2.2168540047038595e-05, -1.8379297935278984e-06, -1.461837775288556e-08, 8.787132273735065e-10]\n",
    "\n",
    "submit(Team_Key,list(vvtt))"
   ]
  },
  {
   "cell_type": "code",
   "execution_count": null,
   "metadata": {},
   "outputs": [],
   "source": []
  }
 ],
 "metadata": {
  "kernelspec": {
   "display_name": "Python 3",
   "language": "python",
   "name": "python3"
  },
  "language_info": {
   "codemirror_mode": {
    "name": "ipython",
    "version": 3
   },
   "file_extension": ".py",
   "mimetype": "text/x-python",
   "name": "python",
   "nbconvert_exporter": "python",
   "pygments_lexer": "ipython3",
   "version": "3.8.5"
  }
 },
 "nbformat": 4,
 "nbformat_minor": 2
}
